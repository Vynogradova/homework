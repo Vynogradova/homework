{
  "cells": [
    {
      "cell_type": "markdown",
      "metadata": {
        "id": "view-in-github",
        "colab_type": "text"
      },
      "source": [
        "<a href=\"https://colab.research.google.com/github/Vynogradova/homework/blob/main/Homework_8_5_%22%D0%9C%D0%BE%D0%B4%D1%83%D0%BB%D1%96_%D0%92%D0%B8%D0%BD%D1%8F%D1%82%D0%BA%D0%B8_%22.ipynb\" target=\"_parent\"><img src=\"https://colab.research.google.com/assets/colab-badge.svg\" alt=\"Open In Colab\"/></a>"
      ]
    },
    {
      "cell_type": "markdown",
      "id": "1561554f",
      "metadata": {
        "id": "1561554f"
      },
      "source": [
        "# Домашнє завдання до теми \"Модулі. Винятки (Exceptions)\"\n",
        "\n"
      ]
    },
    {
      "cell_type": "markdown",
      "metadata": {
        "ExecuteTime": {
          "end_time": "2022-10-22T04:15:21.939494Z",
          "start_time": "2022-10-22T04:15:21.933981Z"
        },
        "id": "c094769a"
      },
      "source": [
        "Почнемо з закріплення матеріалу щодо фукнцій і віпрацювання роботи з модулем `random`.\n",
        "\n",
        "1. Напишіть функцію `get_random_int_list`, яка приймає один аргумент - кількість чисел `n`, і повертає список, що містить `n` випадкових цілих чисел з діапазону від 0 до 100 включно. Для генерації випадкових чисел використовуйте модуль `random`.\n",
        "\n",
        "  **Вимоги до реалізації:**\n",
        "\n",
        "  - Функція повинна приймати один аргумент `n` - кількість чисел у списку.\n",
        "  - Для генерації випадкових чисел використовуйте функцію `random.randint(0, 100)`.\n",
        "  - Повернутий список має містити рівно `n` випадкових чисел.\n",
        "\n",
        "  **Приклади виклику функції та очікувані результати:**\n",
        "\n",
        "  1. **Приклад 1:**\n",
        "    - Виклик функції: `get_random_int_list(5)`\n",
        "    - Очікуваний результат: Список з 5 випадковими числами, наприклад, `[23, 77, 45, 8, 91]`. Кожен запуск може повертати різні числа через випадковість.\n",
        "\n",
        "  2. **Приклад 2:**\n",
        "    - Виклик функції: `get_random_int_list(3)`\n",
        "    - Очікуваний результат: Список з 3 випадковими числами, наприклад, `[64, 20, 37]`.\n",
        "\n",
        "  3. **Приклад 3:**\n",
        "    - Виклик функції: `get_random_int_list(0)`\n",
        "    - Очікуваний результат: Порожній список `[]`, оскільки було запитано 0 чисел.\n",
        "\n",
        "Продемонструйте результати робити функції запустивши код нижче."
      ],
      "id": "c094769a"
    },
    {
      "cell_type": "code",
      "source": [
        "import random\n",
        "\n",
        "def get_random_int_list(n):\n",
        "    result = []\n",
        "    for _ in range(n):\n",
        "        result.append(random.randint(0, 100))\n",
        "    return result\n",
        "\n",
        "print(get_random_int_list(5))\n",
        "print(get_random_int_list(3))\n",
        "print(get_random_int_list(0))"
      ],
      "metadata": {
        "id": "m5hUhAQaqP78",
        "colab": {
          "base_uri": "https://localhost:8080/"
        },
        "outputId": "89308d7d-898c-446d-80c9-eca140af847e"
      },
      "id": "m5hUhAQaqP78",
      "execution_count": 1,
      "outputs": [
        {
          "output_type": "stream",
          "name": "stdout",
          "text": [
            "[4, 88, 47, 3, 52]\n",
            "[83, 80, 86]\n",
            "[]\n"
          ]
        }
      ]
    },
    {
      "cell_type": "code",
      "source": [
        "for number in [5, 3, 0, 8]:\n",
        "  print(get_random_int_list(number))"
      ],
      "metadata": {
        "id": "XV-QkjcbqZNv",
        "colab": {
          "base_uri": "https://localhost:8080/"
        },
        "outputId": "08ceba9b-522a-4a7f-eae5-d086e36ff25e"
      },
      "id": "XV-QkjcbqZNv",
      "execution_count": 2,
      "outputs": [
        {
          "output_type": "stream",
          "name": "stdout",
          "text": [
            "[67, 46, 72, 65, 47]\n",
            "[66, 0, 69]\n",
            "[]\n",
            "[68, 15, 9, 29, 87, 60, 18, 23]\n"
          ]
        }
      ]
    },
    {
      "cell_type": "markdown",
      "source": [
        "2. **Конвертер рядка в число**\n",
        "\n",
        "  **Опис завдання:**\n",
        "\n",
        "  Створіть функцію `string_to_int`, яка приймає рядок і намагається перетворити його в ціле число. Якщо рядок не можна перетворити на ціле число, функція повинна обробити виключення про неправильне значення, вивести на екран `\"Некоректне введення\"` і повернути `None`.\n",
        "\n",
        "  **Приклади виклику функції:**\n",
        "\n",
        "  - `string_to_int(\"123\")` повинно повернути `123`.\n",
        "  - `string_to_int(\"abc\")` повинно вивести повідомлення `\"Некоректне введення\"` і повернути `None`."
      ],
      "metadata": {
        "id": "iBHEcmV7R34X"
      },
      "id": "iBHEcmV7R34X"
    },
    {
      "cell_type": "code",
      "source": [
        "def string_to_int(s):\n",
        "    try:\n",
        "        return int(s)\n",
        "    except ValueError:\n",
        "        print(\"Некоректне введення\")\n",
        "        return None\n",
        "\n",
        "print(string_to_int(\"123\"))\n",
        "print(string_to_int(\"abc\"))"
      ],
      "metadata": {
        "id": "5UT2YNrISdLR",
        "colab": {
          "base_uri": "https://localhost:8080/"
        },
        "outputId": "f713c826-044d-4210-b56b-f174a1cd4c64"
      },
      "execution_count": 3,
      "outputs": [
        {
          "output_type": "stream",
          "name": "stdout",
          "text": [
            "123\n",
            "Некоректне введення\n",
            "None\n"
          ]
        }
      ],
      "id": "5UT2YNrISdLR"
    },
    {
      "cell_type": "markdown",
      "source": [
        "Продемонструйте результати робити функції запустивши код нижче."
      ],
      "metadata": {
        "id": "UbIaPiOHSgE7"
      },
      "id": "UbIaPiOHSgE7"
    },
    {
      "cell_type": "code",
      "source": [
        "test_inputs = [\"123\", \"abc\", \"456.78\", \"100\"]\n",
        "results = {input_value: string_to_int(input_value) for input_value in test_inputs}\n",
        "results\n"
      ],
      "metadata": {
        "id": "AL7sINtwSgcs",
        "colab": {
          "base_uri": "https://localhost:8080/"
        },
        "outputId": "9135ff97-75ca-4435-9b48-7f40f5901ef7"
      },
      "execution_count": 4,
      "outputs": [
        {
          "output_type": "stream",
          "name": "stdout",
          "text": [
            "Некоректне введення\n",
            "Некоректне введення\n"
          ]
        },
        {
          "output_type": "execute_result",
          "data": {
            "text/plain": [
              "{'123': 123, 'abc': None, '456.78': None, '100': 100}"
            ]
          },
          "metadata": {},
          "execution_count": 4
        }
      ],
      "id": "AL7sINtwSgcs"
    },
    {
      "cell_type": "markdown",
      "source": [
        "3. **Контроль введення користувача**\n",
        "\n",
        "  Створіть функцію `check_age`, яка приймає на вхід вік користувача у форматі рядок і перевіряє, чи є користувач повнолітнім (18 років і старше). Якщо введене значення не може бути перетворено на ціле число, функція повинна обробити виняток, вивести на екран `\"Некоректне введення. Будь ласка, введіть числове значення.\"` і повернути `False`. Якщо вік користувача менше 18, вивести повідомлення `\"Ви не повнолітній!\"` і також повернути `False`. У випадку, коли вік 18 років або більше, вивести повідомлення `\"Ви повнолітній.\"` і повернути `True`.\n",
        "\n",
        "  **Приклад роботи програми:**\n",
        "\n",
        "  1. Користувач вводить `\"двадцять\"`: програма виводить на екрнан `\"Некоректне введення. Будь ласка, введіть числове значення.\"` і повертає `False`.\n",
        "  2. Користувач вводить `\"17\"`: програма виводить `\"Ви не повнолітній!\"` і повертає `False`.\n",
        "  3. Користувач вводить `\"18\"`: програма виводить `\"Ви повнолітній.\"` і повертає `True`.\n"
      ],
      "metadata": {
        "id": "KkzLp29pQ1-U"
      },
      "id": "KkzLp29pQ1-U"
    },
    {
      "cell_type": "code",
      "source": [
        "def check_age(age_str):\n",
        "    try:\n",
        "        age = int(age_str)\n",
        "    except ValueError:\n",
        "        print(\"Некоректне введення. Будь ласка, введіть числове значення.\")\n",
        "        return False\n",
        "\n",
        "    if age < 18:\n",
        "        print(\"Ви не повнолітній!\")\n",
        "        return False\n",
        "    else:\n",
        "        print(\"Ви повнолітній.\")\n",
        "        return True\n",
        "\n",
        "print(check_age(\"двадцять\"))\n",
        "print(check_age(\"17\"))\n",
        "print(check_age(\"18\"))"
      ],
      "metadata": {
        "id": "K3PTENm-Ae3-",
        "colab": {
          "base_uri": "https://localhost:8080/"
        },
        "outputId": "e46458f8-b3de-48c3-ef60-9e7a952a0703"
      },
      "execution_count": 7,
      "outputs": [
        {
          "output_type": "stream",
          "name": "stdout",
          "text": [
            "Некоректне введення. Будь ласка, введіть числове значення.\n",
            "False\n",
            "Ви не повнолітній!\n",
            "False\n",
            "Ви повнолітній.\n",
            "True\n"
          ]
        }
      ],
      "id": "K3PTENm-Ae3-"
    },
    {
      "cell_type": "markdown",
      "source": [
        "Продемонструйте результати робити функції запустивши код нижче."
      ],
      "metadata": {
        "id": "huphMh7YR2GJ"
      },
      "id": "huphMh7YR2GJ"
    },
    {
      "cell_type": "code",
      "source": [
        "test_inputs = [\"двадцять\", \"17\", \"18\"]\n",
        "results = [check_age(input_value) for input_value in test_inputs]\n",
        "results"
      ],
      "metadata": {
        "id": "YuEQrntVRgSE",
        "colab": {
          "base_uri": "https://localhost:8080/"
        },
        "outputId": "24d142a5-d39f-45db-b4d8-fb171af3ea73"
      },
      "execution_count": 8,
      "outputs": [
        {
          "output_type": "stream",
          "name": "stdout",
          "text": [
            "Некоректне введення. Будь ласка, введіть числове значення.\n",
            "Ви не повнолітній!\n",
            "Ви повнолітній.\n"
          ]
        },
        {
          "output_type": "execute_result",
          "data": {
            "text/plain": [
              "[False, False, True]"
            ]
          },
          "metadata": {},
          "execution_count": 8
        }
      ],
      "id": "YuEQrntVRgSE"
    },
    {
      "cell_type": "markdown",
      "source": [
        "4. **Обчислення середнього з перевіркою:** Напишіть функцію `calculate_average`, яка приймає на вхід список чисел і обчислює середнє арифметичне значення цих чисел. Функція повинна перевіряти, що всі елементи списку є числами. Якщо серед елементів списку зустрічається елемент, який не є числом, функція повинна вивести повідомлення `\"Всі елементи повинні бути числами\"` і повернути `None`.\n",
        "\n",
        "  **Приклади виклику функції:**\n",
        "\n",
        "  - `calculate_average([1, 2, 3, 4, 5])` повинно повернути `3.0`.\n",
        "  - `calculate_average([1, \"2\", 3])` повинно вивести `\"Всі елементи повинні бути числами\"` і повернути `None`.\n",
        "  - `calculate_average([-1.1, \"ф\", 4])` повинно вивести `\"Всі елементи повинні бути числами\"` і повернути `None`."
      ],
      "metadata": {
        "id": "CQg-zIJGTqjw"
      },
      "id": "CQg-zIJGTqjw"
    },
    {
      "cell_type": "code",
      "source": [
        "def calculate_average(numbers):\n",
        "    for element in numbers:\n",
        "        if not isinstance(element, (int, float)):\n",
        "            print(\"Всі елементи повинні бути числами\")\n",
        "            return None\n",
        "    if len(numbers) == 0:\n",
        "        return 0\n",
        "    return sum(numbers) / len(numbers)\n",
        "\n",
        "print(calculate_average([1, 2, 3, 4, 5]))\n",
        "print(calculate_average([1, \"2\", 3]))\n",
        "print(calculate_average([-1.1, \"ф\", 4]))"
      ],
      "metadata": {
        "id": "91VU_y5sUAKB",
        "colab": {
          "base_uri": "https://localhost:8080/"
        },
        "outputId": "a4edbcd6-ce96-4af4-9336-9e09daec5e0d"
      },
      "execution_count": 11,
      "outputs": [
        {
          "output_type": "stream",
          "name": "stdout",
          "text": [
            "3.0\n",
            "Всі елементи повинні бути числами\n",
            "None\n",
            "Всі елементи повинні бути числами\n",
            "None\n"
          ]
        }
      ],
      "id": "91VU_y5sUAKB"
    },
    {
      "cell_type": "markdown",
      "source": [
        "Продемонструйте результати робити функції запустивши код нижче."
      ],
      "metadata": {
        "id": "ib-JWKKmUeF8"
      },
      "id": "ib-JWKKmUeF8"
    },
    {
      "cell_type": "code",
      "source": [
        "test_data = [\n",
        "    [1, 2, 3, 4, 5],  # Коректні дані\n",
        "    [1, \"2\", 3],      # Некоректні дані\n",
        "    [10, 20, 30],     # Коректні дані\n",
        "    [-1.1, \"ф\", 4]    # Некоректні дані\n",
        "]\n",
        "\n",
        "results = [calculate_average(data) for data in test_data]\n",
        "results"
      ],
      "metadata": {
        "id": "axEmZx0rUNqT",
        "colab": {
          "base_uri": "https://localhost:8080/"
        },
        "outputId": "286db1de-703b-4e29-f056-a7f43b84c446"
      },
      "execution_count": 12,
      "outputs": [
        {
          "output_type": "stream",
          "name": "stdout",
          "text": [
            "Всі елементи повинні бути числами\n",
            "Всі елементи повинні бути числами\n"
          ]
        },
        {
          "output_type": "execute_result",
          "data": {
            "text/plain": [
              "[3.0, None, 20.0, None]"
            ]
          },
          "metadata": {},
          "execution_count": 12
        }
      ],
      "id": "axEmZx0rUNqT"
    }
  ],
  "metadata": {
    "kernelspec": {
      "display_name": "Python 3 (ipykernel)",
      "language": "python",
      "name": "python3"
    },
    "language_info": {
      "codemirror_mode": {
        "name": "ipython",
        "version": 3
      },
      "file_extension": ".py",
      "mimetype": "text/x-python",
      "name": "python",
      "nbconvert_exporter": "python",
      "pygments_lexer": "ipython3",
      "version": "3.10.4"
    },
    "toc": {
      "base_numbering": 1,
      "nav_menu": {},
      "number_sections": true,
      "sideBar": true,
      "skip_h1_title": false,
      "title_cell": "Table of Contents",
      "title_sidebar": "Contents",
      "toc_cell": false,
      "toc_position": {},
      "toc_section_display": true,
      "toc_window_display": false
    },
    "colab": {
      "provenance": [],
      "include_colab_link": true
    }
  },
  "nbformat": 4,
  "nbformat_minor": 5
}