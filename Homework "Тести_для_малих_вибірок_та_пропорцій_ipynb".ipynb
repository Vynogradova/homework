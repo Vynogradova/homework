{
  "cells": [
    {
      "cell_type": "markdown",
      "metadata": {
        "id": "view-in-github",
        "colab_type": "text"
      },
      "source": [
        "<a href=\"https://colab.research.google.com/github/Vynogradova/homework/blob/main/Homework%20%22%D0%A2%D0%B5%D1%81%D1%82%D0%B8_%D0%B4%D0%BB%D1%8F_%D0%BC%D0%B0%D0%BB%D0%B8%D1%85_%D0%B2%D0%B8%D0%B1%D1%96%D1%80%D0%BE%D0%BA_%D1%82%D0%B0_%D0%BF%D1%80%D0%BE%D0%BF%D0%BE%D1%80%D1%86%D1%96%D0%B9_ipynb%22.ipynb\" target=\"_parent\"><img src=\"https://colab.research.google.com/assets/colab-badge.svg\" alt=\"Open In Colab\"/></a>"
      ]
    },
    {
      "cell_type": "markdown",
      "id": "e152f6d6",
      "metadata": {
        "ExecuteTime": {
          "end_time": "2022-12-10T14:29:24.703416Z",
          "start_time": "2022-12-10T14:29:24.688485Z"
        },
        "id": "e152f6d6"
      },
      "source": [
        "# Тести для малих вибірок та пропорцій\n",
        "\n"
      ]
    },
    {
      "cell_type": "code",
      "source": [
        "from google.colab import drive\n",
        "drive.mount('/content/drive')"
      ],
      "metadata": {
        "colab": {
          "base_uri": "https://localhost:8080/"
        },
        "id": "3Tqn85fdbBI1",
        "outputId": "3fdce9fb-2436-4608-a3df-e26fc34de740"
      },
      "id": "3Tqn85fdbBI1",
      "execution_count": null,
      "outputs": [
        {
          "output_type": "stream",
          "name": "stdout",
          "text": [
            "Drive already mounted at /content/drive; to attempt to forcibly remount, call drive.mount(\"/content/drive\", force_remount=True).\n"
          ]
        }
      ]
    },
    {
      "cell_type": "markdown",
      "id": "abdcef5d",
      "metadata": {
        "id": "abdcef5d"
      },
      "source": [
        "**Завдання 1**. E-commerce компанія після редизайну сайту підозрює, що **середній час до покупки (time-to-purchase)** користувачів **збільшився**.\n",
        "Історично середній час від першого заходу на сайт до покупки становив $\\mu_0 = 123.7$ хвилин.\n",
        "\n",
        "Команда аналітиків випадково обрала дані **7 покупців після редизайну**:\n",
        "`128, 135, 121, 142, 126, 151, 123`\n",
        "\n",
        "З допомогою наявних даних зʼясуйте, чи збільшився середній час покупки після редизайну.\n",
        "\n",
        "Для цього виконайте наступні 6 кроків. Правильне виконання кожного з кроків оцінюється в 1 бал.\n",
        "\n",
        "1. Запишіть нульову та альтернативну гіпотези і визначте тип тесту.\n",
        "2. Обчисліть вибіркові статистики: $\\bar x$, $s$, $n$.\n",
        "3. Оберіть тип тесту та виконайте його (знайдіть критичне значення тесту, статистику тесту та р-значення) будь-яким пасуючим способом, щоб перевірити гіпотезу на рівні значущості $\\alpha = 0.10$.\n",
        "4. Прийміть рішення, чи відхиляєте ви гіпотезу $H_0$ використовуючи p-value.\n",
        "5. Напишіть висновок: чи справді редизайн сайту подовжив час до покупки?\n",
        "6. Чи зміниться ваше рішення при зміні рівня значущості на $\\alpha = 0.05$.\n"
      ]
    },
    {
      "cell_type": "markdown",
      "source": [
        "1.\n",
        "H₀: μ = 123.7  (нульова гіпотеза - середній час до покупки не зріс)  \n",
        "H₁: μ > 123.7  (альтернативна гіпотеза - середній час до покупки зріс)  \n",
        "Тип тесту: правосторонній (one-tailed)  \n"
      ],
      "metadata": {
        "id": "MBV2jg1hcXRM"
      },
      "id": "MBV2jg1hcXRM"
    },
    {
      "cell_type": "code",
      "source": [
        "2.\n",
        "import numpy as np\n",
        "from scipy import stats\n",
        "\n",
        "time_to_purchase = np.array([128,135,121,142,126,151,123])\n",
        "mu0 = 123.7\n",
        "\n",
        "x_bar = np.mean(time_to_purchase)\n",
        "s = np.std(time_to_purchase, ddof=1)\n",
        "n = len(time_to_purchase)\n",
        "\n",
        "print(f\"Вибіркове середнє x_bar = {x_bar:.2f}\")\n",
        "print(f\"Вибііркове стандартне відхилення s = {s:.2f}\")\n",
        "print(f\"Вибірка n = {n}\")"
      ],
      "metadata": {
        "id": "BcS4cm11QYpT",
        "colab": {
          "base_uri": "https://localhost:8080/"
        },
        "outputId": "e0b352a2-8fcb-4c30-d5d7-facf3d7527fd"
      },
      "id": "BcS4cm11QYpT",
      "execution_count": null,
      "outputs": [
        {
          "output_type": "stream",
          "name": "stdout",
          "text": [
            "Вибіркове середнє x_bar = 132.29\n",
            "Вибііркове стандартне відхилення s = 10.98\n",
            "Вибірка n = 7\n"
          ]
        }
      ]
    },
    {
      "cell_type": "code",
      "source": [
        "3.\n",
        "alpha = 0.10\n",
        "\n",
        "#Крок 1. Обчислимо t-статистику вручну\n",
        "t_stat = (x_bar - mu0) / (s / np.sqrt(n))\n",
        "\n",
        "# Крок 2. Критичне значення для правостороннього тесту\n",
        "df = n - 1\n",
        "t_crit = stats.t.ppf( 1- alpha, df)\n",
        "\n",
        "# Крок 3. p-value\n",
        "p_value = 1 - stats.t.cdf(t_stat, df)\n",
        "\n",
        "print(f\"t-статистика: {t_stat:.3f}\")\n",
        "print(f\"Критичне значення (df={df}): {t_crit:.3f}\")\n",
        "print(f\"p-value: {p_value:.4f}\")\n",
        "\n",
        "# Висновок\n",
        "if t_stat > t_crit:\n",
        "    print(f\"Відхиляємо H0: середній час до покупки зріс (рівень значущості {alpha})\")\n",
        "else:\n",
        "    print(\"Не відхиляємо H0: доказів недостатньо\")"
      ],
      "metadata": {
        "colab": {
          "base_uri": "https://localhost:8080/"
        },
        "id": "8XZXS1vjj6L5",
        "outputId": "6c17f31f-5271-4c58-8040-c6b8d7c554e3"
      },
      "id": "8XZXS1vjj6L5",
      "execution_count": null,
      "outputs": [
        {
          "output_type": "stream",
          "name": "stdout",
          "text": [
            "t-статистика: 2.069\n",
            "Критичне значення (df=6): 1.440\n",
            "p-value: 0.0420\n",
            "Не відхиляємо H0: доказів недостатньо\n"
          ]
        }
      ]
    },
    {
      "cell_type": "markdown",
      "source": [
        "4.\n",
        "Використовуючи p-value, ми відхиляємо H₀ на рівні α=0.10.\n",
        "\n",
        "Значить, є статистично значуще збільшення часу до покупки після редизайну."
      ],
      "metadata": {
        "id": "FcRDOiWXly9b"
      },
      "id": "FcRDOiWXly9b"
    },
    {
      "cell_type": "markdown",
      "source": [
        "5.\n",
        "Редизайн сайту, ймовірно, подовжив середній час до покупки для користувачів."
      ],
      "metadata": {
        "id": "IOuWJAnyqNLw"
      },
      "id": "IOuWJAnyqNLw"
    },
    {
      "cell_type": "code",
      "source": [
        "alpha = 0.05\n",
        "\n",
        "#Крок 1. Обчислимо t-статистику вручну\n",
        "t_stat = (x_bar - mu0) / (s / np.sqrt(n))\n",
        "\n",
        "# Крок 2. Критичне значення для правостороннього тесту\n",
        "df = n - 1\n",
        "t_crit = stats.t.ppf(1 - alpha, df)\n",
        "\n",
        "# Крок 3. p-value\n",
        "p_value = 1 - stats.t.cdf(t_stat, df)\n",
        "\n",
        "print(f\"t-статистика: {t_stat:.3f}\")\n",
        "print(f\"Критичне значення (df={df}): {t_crit:.3f}\")\n",
        "print(f\"p-value: {p_value:.4f}\")\n",
        "\n",
        "# Висновок\n",
        "if t_stat > t_crit:\n",
        "    print(f\"Відхиляємо H0: середній час до покупки зріс (рівень значущості {alpha})\")\n",
        "else:\n",
        "    print(\"Не відхиляємо H0: доказів недостатньо\")"
      ],
      "metadata": {
        "colab": {
          "base_uri": "https://localhost:8080/"
        },
        "id": "IkYMQp3ql_mh",
        "outputId": "ddc13183-777f-41ae-c9d8-60ddfadd17e0"
      },
      "id": "IkYMQp3ql_mh",
      "execution_count": null,
      "outputs": [
        {
          "output_type": "stream",
          "name": "stdout",
          "text": [
            "t-статистика: 2.069\n",
            "Критичне значення (df=6): 1.943\n",
            "p-value: 0.0420\n",
            "Не відхиляємо H0: доказів недостатньо\n"
          ]
        }
      ]
    },
    {
      "cell_type": "markdown",
      "source": [
        "6.\n",
        "p-value ≈ 0.0420 < 0.05 → на рівні α=0.05 також відхиляємо H₀.\n",
        "\n",
        "Висновок не змінюється: збільшення часу до покупки підтверджується."
      ],
      "metadata": {
        "id": "iVZB7qWvqtZB"
      },
      "id": "iVZB7qWvqtZB"
    },
    {
      "cell_type": "markdown",
      "source": [
        "**Завдання 2.**\n",
        "\n",
        "До спеціальної рекламної кампанії **23%** дорослих упізнавали логотип компанії. Після завершення кампанії відділ маркетингу провів опитування: з **1200** випадково відібраних дорослих **311** упізнали логотип.\n",
        "\n",
        "Перевірте на рівні значущості **3%** ($\\alpha=0.03$), чи дають ці дані достатні підстави стверджувати, що **тепер більше ніж 23%** дорослих упізнають логотип компанії. Для розвʼязку використовуйте бібліотеку `statsmodels`.\n",
        "\n",
        "Зробіть висновок, чи зросла впізнаваність логотипу.\n",
        "\n",
        "Додатково, обчисліть довірчий інтревал на заданому рівні значущості і проінтерпретуйте текстом - як він додатково пояснює прийняте нами рішення?"
      ],
      "metadata": {
        "id": "5govLcx8FPSl"
      },
      "id": "5govLcx8FPSl"
    },
    {
      "cell_type": "code",
      "source": [
        "import statsmodels.api as sm\n",
        "from statsmodels.stats.proportion import proportions_ztest, proportion_confint\n",
        "\n",
        "count =  311  # кількість \"успіхів\"\n",
        "nobs = 1200   # обсяг вибірки\n",
        "p0 = 0.23      # гіпотетична пропорція (H0)\n",
        "alpha = 0.03\n",
        "\n",
        "# z-тест для пропорції\n",
        "stat, pval = proportions_ztest(count, nobs, p0, alternative='larger')\n",
        "confint = proportion_confint(count, nobs, alpha=0.03, method='normal')\n",
        "\n",
        "print(\" Тест для однієї пропорції\")\n",
        "print(f\"Z-статистика = {stat:.3f}\")\n",
        "print(f\"p-value = {pval:.4f}\")\n",
        "print(f\"97% довірчий інтервал: {confint}\")"
      ],
      "metadata": {
        "id": "rcplRfotId51",
        "colab": {
          "base_uri": "https://localhost:8080/"
        },
        "outputId": "f536a712-0c4c-4fe0-9942-9c14b9ec0d14"
      },
      "id": "rcplRfotId51",
      "execution_count": 28,
      "outputs": [
        {
          "output_type": "stream",
          "name": "stdout",
          "text": [
            " Тест для однієї пропорції\n",
            "Z-статистика = 2.306\n",
            "p-value = 0.0106\n",
            "97% довірчий інтервал: (0.23171700302179205, 0.28661633031154127)\n"
          ]
        }
      ]
    },
    {
      "cell_type": "markdown",
      "source": [
        "p-value < α (0.0106 < 0.03) - відхиляємо нульову гіпотезу H₀: p = 0.23\n",
        "\n",
        "Це означає, що є статистично значущі підстави стверджувати, що частка дорослих, які впізнають логотип, зросла після рекламної кампанії."
      ],
      "metadata": {
        "id": "IZ3nBUiQvB6H"
      },
      "id": "IZ3nBUiQvB6H"
    }
  ],
  "metadata": {
    "hide_input": false,
    "kernelspec": {
      "display_name": "Python 3 (ipykernel)",
      "language": "python",
      "name": "python3"
    },
    "language_info": {
      "codemirror_mode": {
        "name": "ipython",
        "version": 3
      },
      "file_extension": ".py",
      "mimetype": "text/x-python",
      "name": "python",
      "nbconvert_exporter": "python",
      "pygments_lexer": "ipython3",
      "version": "3.11.3"
    },
    "toc": {
      "base_numbering": 1,
      "nav_menu": {},
      "number_sections": true,
      "sideBar": true,
      "skip_h1_title": false,
      "title_cell": "Table of Contents",
      "title_sidebar": "Contents",
      "toc_cell": false,
      "toc_position": {},
      "toc_section_display": true,
      "toc_window_display": false
    },
    "varInspector": {
      "cols": {
        "lenName": 16,
        "lenType": 16,
        "lenVar": 40
      },
      "kernels_config": {
        "python": {
          "delete_cmd_postfix": "",
          "delete_cmd_prefix": "del ",
          "library": "var_list.py",
          "varRefreshCmd": "print(var_dic_list())"
        },
        "r": {
          "delete_cmd_postfix": ") ",
          "delete_cmd_prefix": "rm(",
          "library": "var_list.r",
          "varRefreshCmd": "cat(var_dic_list()) "
        }
      },
      "types_to_exclude": [
        "module",
        "function",
        "builtin_function_or_method",
        "instance",
        "_Feature"
      ],
      "window_display": false
    },
    "colab": {
      "provenance": [],
      "include_colab_link": true
    }
  },
  "nbformat": 4,
  "nbformat_minor": 5
}