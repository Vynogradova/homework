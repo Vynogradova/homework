{
  "cells": [
    {
      "cell_type": "markdown",
      "metadata": {
        "id": "view-in-github",
        "colab_type": "text"
      },
      "source": [
        "<a href=\"https://colab.research.google.com/github/Vynogradova/homework/blob/main/Homework%20%22%D0%9F%D0%B5%D1%80%D0%B5%D0%B2%D1%96%D1%80%D0%BA%D0%B0_%D1%81%D1%82%D0%B0%D1%82%D0%B8c%D1%82%D0%B8%D1%87%D0%BD%D0%B8%D1%85_%D0%B3%D1%96%D0%BF%D0%BE%D1%82%D0%B5%D0%B7_Z_test_ipynb%22.ipynb\" target=\"_parent\"><img src=\"https://colab.research.google.com/assets/colab-badge.svg\" alt=\"Open In Colab\"/></a>"
      ]
    },
    {
      "cell_type": "markdown",
      "id": "e152f6d6",
      "metadata": {
        "ExecuteTime": {
          "end_time": "2022-12-10T14:29:24.703416Z",
          "start_time": "2022-12-10T14:29:24.688485Z"
        },
        "id": "e152f6d6"
      },
      "source": [
        "#Перевірка статиcтичних гіпотез. Z-test.\n",
        "\n"
      ]
    },
    {
      "cell_type": "markdown",
      "id": "cd404683",
      "metadata": {
        "id": "cd404683"
      },
      "source": [
        "0. Зчитайте дані з `data.csv` у змінну data, яка має тип pandas.DataFrame. Ми будемо далі працювати з цією змінною."
      ]
    },
    {
      "cell_type": "code",
      "source": [
        "from google.colab import drive\n",
        "drive.mount('/content/drive')"
      ],
      "metadata": {
        "colab": {
          "base_uri": "https://localhost:8080/"
        },
        "id": "4MdndSspC3qM",
        "outputId": "cfb572bd-63e7-4f2f-ebe8-69aefe93b8f2"
      },
      "id": "4MdndSspC3qM",
      "execution_count": 2,
      "outputs": [
        {
          "output_type": "stream",
          "name": "stdout",
          "text": [
            "Mounted at /content/drive\n"
          ]
        }
      ]
    },
    {
      "cell_type": "code",
      "execution_count": 3,
      "id": "b20b6ba2",
      "metadata": {
        "id": "b20b6ba2",
        "colab": {
          "base_uri": "https://localhost:8080/"
        },
        "outputId": "93bb79a3-7b7f-4972-9a3c-176d453a7215"
      },
      "outputs": [
        {
          "output_type": "stream",
          "name": "stdout",
          "text": [
            "   Unnamed: 0       data\n",
            "0           0  17.499453\n",
            "1           1  19.662399\n",
            "2           2   7.182823\n",
            "3           3  29.841625\n",
            "4           4   9.239386\n"
          ]
        }
      ],
      "source": [
        "import pandas as pd\n",
        "data = pd.read_csv (\"/content/drive/MyDrive/data.csv\")\n",
        "print (data.head ())"
      ]
    },
    {
      "cell_type": "markdown",
      "id": "3d06cbbf",
      "metadata": {
        "id": "3d06cbbf"
      },
      "source": [
        "Запустіть код нижче. Для коректної робити всіх подальших методів дані мають бути у вигляді одновимірного `numpy.ndarray` вектора та мати розмірність (100,). Така розмірність означає, що дані - одновимірні (колонка), якщо б розмірність була (100, 1), то дані сприймаються методами як двовимірні (таблиця), хоча для нас виглядати можуть так само."
      ]
    },
    {
      "cell_type": "code",
      "execution_count": 4,
      "id": "cce1632b",
      "metadata": {
        "id": "cce1632b",
        "colab": {
          "base_uri": "https://localhost:8080/"
        },
        "outputId": "94d3f29e-3c4e-4dec-dbd5-b590f8a93819"
      },
      "outputs": [
        {
          "output_type": "execute_result",
          "data": {
            "text/plain": [
              "(100,)"
            ]
          },
          "metadata": {},
          "execution_count": 4
        }
      ],
      "source": [
        "data = data.data.values\n",
        "data.shape"
      ]
    },
    {
      "cell_type": "markdown",
      "id": "abdcef5d",
      "metadata": {
        "id": "abdcef5d"
      },
      "source": [
        "**Завдання 1**. Зчитані дані - це сума покупок в доларах наших покупців на сайті протягом липня 2025 року.\n",
        "\n",
        "До цього місяця, ми мали продажі в середньому на чек $20.\n",
        "\n",
        "Необхідно зʼясувати, чи вийшло у нас статистично значущо **підвищити** середній чек за липень 2025?\n",
        "\n",
        "Аби дати відповідь - ми проведемо z-test на рівні значущості $\\alpha=0.05$ двома способами. В цьому завданні ми будемо виконувати обчислення \"вручну\" з використанням бібліотек numpy та scipy.stats подібно до прикладу в лекції. Для цього виконайте наступні 7 кроків. Правильне виконання кожного з кроків оцінюється в 1 бал.\n",
        "\n",
        "1. Запишіть параметри задачі у змінні Python:\n",
        "    - `sample_mean` - $\\bar{x}$, середнє значення в вибірці\n",
        "    - `population_mean` - $\\mu_0$, середнє значення в популяції (тобто те, з яким ми порівнюємо середнє вибіркове значення)\n",
        "    - `population_std` - $\\sigma$, вибіркове стандартне відхилення, яке ми вважаємо, що є рівним ст. відх. популяції, адже маємо достатньо велику вибірку.\n",
        "    - `sample_size` - $n$, розмір вибірки\n",
        "    - `alpha` - $\\alpha$ рівень значущості\n",
        "    \n",
        "    **Увага!** Для обчислення стандартного відхилення маємо скористатись функцією `np.std(your_dataframe, ddof=1)`. Чому так - розбираємо в лекції про t-test.\n",
        "\n",
        "\n",
        "2. Визначте для цієї задачі:\n",
        "    - якою є гіпотеза $H_0$\n",
        "    - якою є альтернативна гіпотеза $H_a$\n",
        "    - з яким типом тесту ми маємо справу - лівосторонній, правосторонній чи двосторонній.\n",
        "\n",
        "3. Обчисліть стандартну помилку SE.\n",
        "4. Розрахуйте z-статистику.\n",
        "5. Знайдіть критичне z-значення з допомогою бібліотеки stats.\n",
        "6. Обчисліть p-value з допомогою бібліотеки stats.\n",
        "7. Прийміть рішення, чи відхиляєте ви гіпотезу $H_0$. Для прийняття рішення зробіть і порівняння z-статистики з критичним значенням, і проаналізуйте p-value."
      ]
    },
    {
      "cell_type": "code",
      "source": [
        "import numpy as np\n",
        "from scipy import stats"
      ],
      "metadata": {
        "id": "NX2XezWLdf4t"
      },
      "id": "NX2XezWLdf4t",
      "execution_count": 5,
      "outputs": []
    },
    {
      "cell_type": "code",
      "source": [
        "data"
      ],
      "metadata": {
        "id": "s0svCZUARbkp",
        "colab": {
          "base_uri": "https://localhost:8080/"
        },
        "outputId": "5c2d032b-6a9e-4d8b-9a78-f9163d4cd671"
      },
      "id": "s0svCZUARbkp",
      "execution_count": 6,
      "outputs": [
        {
          "output_type": "execute_result",
          "data": {
            "text/plain": [
              "array([17.49945292, 19.66239904,  7.18282343, 29.84162485,  9.23938649,\n",
              "       14.94951581, 23.0172885 , 12.52827148, 13.65228669, 14.54595431,\n",
              "       23.30872427, 33.75324808, 20.24923636, 13.29244733, 23.23434992,\n",
              "       16.4230418 , 19.88521702, 27.05000732, 15.5127743 , 20.05415151,\n",
              "       14.73135264, 19.06139498, 21.53942271, 14.06732571, 17.9670682 ,\n",
              "       18.58289581, 16.17406993, 12.87432628, 11.47269664, 19.07902883,\n",
              "       18.38565824, 33.38820073,  5.39139454, 20.67635903, 22.22266722,\n",
              "       28.15780318, 23.01114324, 14.93471778, 20.00005857, 23.25411543,\n",
              "       18.11895082, 24.62607043,  8.79145607, 30.387108  , 28.80606806,\n",
              "       17.98593597, 23.66804468, 20.28782355, 15.02518827, 20.52626131,\n",
              "       26.00219532, 17.71344489, 17.74598346, 19.55317542, 22.60097798,\n",
              "       27.67027538, 16.19192417, 23.05037746, 21.29669604,  8.84832568,\n",
              "       17.48410111, 19.20602661, 19.76257856, 21.9560206 ,  7.75806171,\n",
              "       20.27753314, 15.93394654, 11.36336584, 23.14577858, 24.41167746,\n",
              "       16.08049839, 25.05473769, 17.71090111, 20.39893405, 13.40756632,\n",
              "       29.50692234,  4.04330326, 19.45128426, 24.17071763,  7.79920072,\n",
              "       18.86318441, 19.53668801, 24.94821803, 27.48927752, 17.57664638,\n",
              "       11.692888  , 28.20341254, 27.3073138 , 17.22796791, 22.10533096,\n",
              "       22.2911974 , 23.39765265, 21.22524787, 28.44017745,  9.57224297,\n",
              "       26.24494372, 22.28283182, 18.69718839, 27.04118899,  5.93838085])"
            ]
          },
          "metadata": {},
          "execution_count": 6
        }
      ]
    },
    {
      "cell_type": "code",
      "source": [
        "np.mean(data)"
      ],
      "metadata": {
        "colab": {
          "base_uri": "https://localhost:8080/"
        },
        "id": "4o0oKDOfUyGQ",
        "outputId": "1b70f425-e039-4789-8829-cec3fc8a3b28"
      },
      "id": "4o0oKDOfUyGQ",
      "execution_count": 7,
      "outputs": [
        {
          "output_type": "execute_result",
          "data": {
            "text/plain": [
              "np.float64(19.37755319670441)"
            ]
          },
          "metadata": {},
          "execution_count": 7
        }
      ]
    },
    {
      "cell_type": "code",
      "source": [
        "1\n",
        "sample_mean = np.mean(data)\n",
        "population_mean = 20\n",
        "population_std = np.std (data,ddof=1)\n",
        "sample_size = len(data)\n",
        "alpha = 0.05\n",
        "\n",
        "print (f\"Cереднє значення у вибірці sample_mean: {sample_mean:.2f}\")\n",
        "print (f\"Середнє значення в популяції population_mean = 20\")\n",
        "print (f\"Стандартнє відхилення population_std : {population_std:.2f}\")\n",
        "print (f\"Вибірка sample_size : {sample_size:.2f}\")\n",
        "print (f\"Рівень значущості alpha : {alpha}\")"
      ],
      "metadata": {
        "colab": {
          "base_uri": "https://localhost:8080/"
        },
        "id": "IzMZaj1qXBhH",
        "outputId": "fa1eb70f-ef58-4f5a-cb6b-86248df330e2"
      },
      "id": "IzMZaj1qXBhH",
      "execution_count": 19,
      "outputs": [
        {
          "output_type": "stream",
          "name": "stdout",
          "text": [
            "Cереднє значення у вибірці sample_mean: 19.38\n",
            "Середнє значення в популяції population_mean = 20\n",
            "Стандартнє відхилення population_std : 6.25\n",
            "Вибірка sample_size : 100.00\n",
            "Рівень значущості alpha : 0.05\n"
          ]
        }
      ]
    },
    {
      "cell_type": "markdown",
      "source": [
        "2\n",
        "1. Якою є гіпотеза $H_0$ :\n",
        "\n",
        "#$H_0$:$\\mu$ = 20$\n",
        "\n",
        "2. Якою є альтернативна гіпотеза $H_a$\n",
        "\n",
        "#$H_a$:$\\mu$ > 20$\n",
        "    \n",
        "3. Яким типом тесту ми маємо справу - лівосторонній, правосторонній чи двосторонній.\n",
        "\n",
        "#Правосторонній тест."
      ],
      "metadata": {
        "id": "MMF-c1hvAWhi"
      },
      "id": "MMF-c1hvAWhi"
    },
    {
      "cell_type": "code",
      "source": [
        "3\n",
        "standard_error = population_std / np.sqrt(sample_size)\n",
        "print (f\"Стандартна помилка SE {standard_error:.3f}\")\n",
        "print(\"Інтерпретація: В середньому, вибіркове середнє відхиляється\")\n",
        "print(f\"від справжнього середнього на ±{standard_error:.3f} доларів\")"
      ],
      "metadata": {
        "colab": {
          "base_uri": "https://localhost:8080/"
        },
        "id": "J6UHUm3vEaKE",
        "outputId": "714bb582-dd42-468d-8527-4b3069218a63"
      },
      "id": "J6UHUm3vEaKE",
      "execution_count": 20,
      "outputs": [
        {
          "output_type": "stream",
          "name": "stdout",
          "text": [
            "Стандартна помилка SE 0.625\n",
            "Інтерпретація: В середньому, вибіркове середнє відхиляється\n",
            "від справжнього середнього на ±0.625 доларів\n"
          ]
        }
      ]
    },
    {
      "cell_type": "code",
      "source": [
        "4\n",
        "z_statistic = (sample_mean - population_mean) / standard_error\n",
        "\n",
        "print(f\"Наше вибіркове середнє відхиляється на {z_statistic:.3f} стандартних\")\n",
        "print(\"помилок від гіпотетичного середнього популяції.\")\n",
        "print()\n",
        "if z_statistic > 2:\n",
        "    print(\"Це досить велике відхилення. (більше 2 стандартних помилок)\")\n",
        "elif z_statistic > 1:\n",
        "    print(\"Це помірне відхилення (між 1 та 2 стандартними помилками)\")\n",
        "else:\n",
        "    print(\"Це невелике відхилення (менше 1 стандартної помилки)\")"
      ],
      "metadata": {
        "colab": {
          "base_uri": "https://localhost:8080/"
        },
        "id": "vU3Dh_4UIxn9",
        "outputId": "0a33ad6f-9383-4e59-d0f8-f639bfcfa20a"
      },
      "id": "vU3Dh_4UIxn9",
      "execution_count": 23,
      "outputs": [
        {
          "output_type": "stream",
          "name": "stdout",
          "text": [
            "Наше вибіркове середнє відхиляється на -0.995 стандартних\n",
            "помилок від гіпотетичного середнього популяції.\n",
            "\n",
            "Це невелике відхилення (менше 1 стандартної помилки)\n"
          ]
        }
      ]
    },
    {
      "cell_type": "code",
      "source": [
        "5\n",
        "z_critical = stats.norm.ppf(1 - alpha)\n",
        "print(f\"Критичне z-значення = {z_critical:.3f}\")\n",
        "print(f\"Якщо z-статистика > {z_critical:.3f}, то результат настільки\")\n",
        "print(\"незвичайний, що ми не віримо у випадковість за гіпотезою Н0.\")\n",
        "print(f\"Ймовірність отримати z > {z_critical:.3f} випадково = {alpha*100}%\")"
      ],
      "metadata": {
        "colab": {
          "base_uri": "https://localhost:8080/"
        },
        "id": "gtFsjrmlJ044",
        "outputId": "0809e9ec-363f-4832-8f90-5ea170a8eefa"
      },
      "id": "gtFsjrmlJ044",
      "execution_count": 29,
      "outputs": [
        {
          "output_type": "stream",
          "name": "stdout",
          "text": [
            "Критичне z-значення = 1.645\n",
            "Якщо z-статистика > 1.645, то результат настільки\n",
            "незвичайний, що ми не віримо у випадковість за гіпотезою Н0.\n",
            "Ймовірність отримати z > 1.645 випадково = 5.0%\n"
          ]
        }
      ]
    },
    {
      "cell_type": "code",
      "source": [
        "6\n",
        "p_value = 1 - stats.norm.cdf(z_statistic)\n",
        "print(f\"p-value = {p_value:.3f}\")\n",
        "print(f\"Якщо H₀ правильна (то середній чек не вдалось підняти), то ймовірність\")\n",
        "print(f\"випадково отримати середнє чеку ≥ {sample_mean:.3f} становить {p_value:.6f}\")\n",
        "print(f\"або приблизно {p_value*100:.4f}%\")\n",
        "print()\n",
        "if p_value < 0.001:\n",
        "    print(\"Це НАДЗВИЧАЙНО малоймовірно! (менше 0.1%)\")\n",
        "elif p_value < 0.01:\n",
        "    print(\"Це дуже малоймовірно! (менше 1%)\")\n",
        "elif p_value < 0.05:\n",
        "    print(\"Це малоймовірно! (менше 5%)\")\n",
        "else:\n",
        "    print(\"Це цілком можливо випадково\")"
      ],
      "metadata": {
        "colab": {
          "base_uri": "https://localhost:8080/"
        },
        "id": "BYgSeBWgMr5U",
        "outputId": "b998c10a-853c-48ed-ba41-1f6a67c48a46"
      },
      "id": "BYgSeBWgMr5U",
      "execution_count": 33,
      "outputs": [
        {
          "output_type": "stream",
          "name": "stdout",
          "text": [
            "p-value = 0.840\n",
            "Якщо H₀ правильна (то середній чек не вдалось підняти), то ймовірність\n",
            "випадково отримати середнє чеку ≥ 19.378 становить 0.840216\n",
            "або приблизно 84.0216%\n",
            "\n",
            "Це цілком можливо випадково\n"
          ]
        }
      ]
    },
    {
      "cell_type": "code",
      "source": [
        "7\n",
        "print(\"МЕТОД 1: Порівняння z-статистики з критичним значенням\")\n",
        "print(f\"z-статистика = {z_statistic:.3f}\")\n",
        "print(f\"Критичне значення = {z_critical:.3f}\")\n",
        "print(f\"Порівняння: {z_statistic:.3f} {'>' if z_statistic > z_critical else '≤'} {z_critical:.3f}\")\n",
        "\n",
        "if z_statistic > z_critical:\n",
        "    print(\"Висновок: z-статистика ПЕРЕВИЩУЄ критичне значення\")\n",
        "    decision1 = \"ВІДХИЛЯЄМО H₀\"\n",
        "else:\n",
        "    print(\"Висновок: z-статистика НЕ перевищує критичне значення\")\n",
        "    decision1 = \"НЕ ВІДХИЛЯЄМО H₀\"\n",
        "\n",
        "print(f\"Рішення: {decision1}\")"
      ],
      "metadata": {
        "colab": {
          "base_uri": "https://localhost:8080/"
        },
        "id": "9908Q-aCRGWZ",
        "outputId": "99feac7d-2773-4c54-ca44-6dded78570a4"
      },
      "id": "9908Q-aCRGWZ",
      "execution_count": 34,
      "outputs": [
        {
          "output_type": "stream",
          "name": "stdout",
          "text": [
            "МЕТОД 1: Порівняння z-статистики з критичним значенням\n",
            "z-статистика = -0.995\n",
            "Критичне значення = 1.645\n",
            "Порівняння: -0.995 ≤ 1.645\n",
            "Висновок: z-статистика НЕ перевищує критичне значення\n",
            "Рішення: НЕ ВІДХИЛЯЄМО H₀\n"
          ]
        }
      ]
    },
    {
      "cell_type": "code",
      "source": [
        "print(\"МЕТОД 2: Порівняння p-value з рівнем значущості\")\n",
        "print(f\"p-value = {p_value:.6f}\")\n",
        "print(f\"Рівень значущості α = {alpha}\")\n",
        "print(f\"Порівняння: {p_value:.6f} {'<' if p_value < alpha else '≥'} {alpha}\")\n",
        "\n",
        "if p_value < alpha:\n",
        "    print(\"Висновок: p-value МЕНШЕ за рівень значущості\")\n",
        "    decision2 = \"ВІДХИЛЯЄМО H₀\"\n",
        "else:\n",
        "    print(\"Висновок: p-value НЕ менше за рівень значущості\")\n",
        "    decision2 = \"НЕ ВІДХИЛЯЄМО H₀\"\n",
        "\n",
        "print(f\"Рішення: {decision2}\")"
      ],
      "metadata": {
        "colab": {
          "base_uri": "https://localhost:8080/"
        },
        "id": "odCQJpr7RjFn",
        "outputId": "d7e2d2e3-56d6-4384-f276-541d633e7170"
      },
      "id": "odCQJpr7RjFn",
      "execution_count": 36,
      "outputs": [
        {
          "output_type": "stream",
          "name": "stdout",
          "text": [
            "МЕТОД 2: Порівняння p-value з рівнем значущості\n",
            "p-value = 0.840216\n",
            "Рівень значущості α = 0.05\n",
            "Порівняння: 0.840216 ≥ 0.05\n",
            "Висновок: p-value НЕ менше за рівень значущості\n",
            "Рішення: НЕ ВІДХИЛЯЄМО H₀\n"
          ]
        }
      ]
    },
    {
      "cell_type": "code",
      "source": [
        "print(\"ФІНАЛЬНИЙ ВИСНОВОК:\")\n",
        "print(\"=\" * 60)\n",
        "if decision2 == \"ВІДХИЛЯЄМО H₀\":\n",
        "    print(\"✅ Вдалось підвищити середній чек за місяць\")\n",
        "else:\n",
        "    print(\"❌ Не вдалось підвищити середній чек за місяць\")"
      ],
      "metadata": {
        "colab": {
          "base_uri": "https://localhost:8080/"
        },
        "id": "CwprhGOsR81J",
        "outputId": "c299b2b9-1013-4da3-8dfc-c65d54fe0241"
      },
      "id": "CwprhGOsR81J",
      "execution_count": 38,
      "outputs": [
        {
          "output_type": "stream",
          "name": "stdout",
          "text": [
            "ФІНАЛЬНИЙ ВИСНОВОК:\n",
            "============================================================\n",
            "❌ Не вдалось підвищити середній чек за місяць\n"
          ]
        }
      ]
    },
    {
      "cell_type": "markdown",
      "source": [
        "**Завдання 2.** Виконайте обчислення z-test з використанням бібліотеки statsmodels.\n",
        "\n",
        "Отримайте z-статистику та р-значення.\n",
        "\n",
        "Виведіть p-значення та зробіть висновок, чи ми маємо достатньо доказів, аби стверджувати, що середній чек зріс.\n",
        "\n",
        "Чи зійшлись значення z-статистику та р-значення в цьому завданні з попередніми обчисленнями?\n",
        "\n",
        "Завдання оцінюється в 3 бали."
      ],
      "metadata": {
        "id": "0FOBByRMXkL2"
      },
      "id": "0FOBByRMXkL2"
    },
    {
      "cell_type": "code",
      "source": [
        "from statsmodels.stats import weightstats as stests\n"
      ],
      "metadata": {
        "id": "YXw-QwSPVO7K"
      },
      "id": "YXw-QwSPVO7K",
      "execution_count": 40,
      "outputs": []
    },
    {
      "cell_type": "code",
      "source": [
        "z_stat_sm, p_val_sm = stests.ztest(data,           # наші дані\n",
        "                                    value=population_mean,  # μ₀ = 20\n",
        "                                    alternative='larger')   # H₁: μ > 20\n",
        "\n",
        "print(f\"Результати z-тесту:\")\n",
        "print(f\"  Z-статистика: {z_stat_sm:.3f}\")\n",
        "print(f\"  P-value: {p_val_sm:.6f}\")\n",
        "print()\n",
        "\n",
        "# Інтерпретація результатів\n",
        "print(\"ІНТЕРПРЕТАЦІЯ:\")\n",
        "print(\"-\" * 40)\n",
        "if p_val_sm < alpha:\n",
        "    print(f\"✅ ВІДХИЛЯЄМО H₀\")\n",
        "    print(f\"   p-value ({p_val_sm:.6f}) < α ({alpha})\")\n",
        "    print(\"   Висновок: Середній чек  зріс за місяць\")\n",
        "else:\n",
        "    print(f\"❌ НЕ ВІДХИЛЯЄМО H₀\")\n",
        "    print(f\"   p-value ({p_val_sm:.6f}) ≥ α ({alpha})\")\n",
        "    print(\"   Висновок: Немає зросту середнього чеку за місяць\")"
      ],
      "metadata": {
        "id": "f_Oa0DJhdg6v",
        "colab": {
          "base_uri": "https://localhost:8080/"
        },
        "outputId": "ffe7db7c-175b-4061-bd3a-9ebb06368aa5"
      },
      "id": "f_Oa0DJhdg6v",
      "execution_count": 42,
      "outputs": [
        {
          "output_type": "stream",
          "name": "stdout",
          "text": [
            "Результати z-тесту:\n",
            "  Z-статистика: -0.995\n",
            "  P-value: 0.840216\n",
            "\n",
            "ІНТЕРПРЕТАЦІЯ:\n",
            "----------------------------------------\n",
            "❌ НЕ ВІДХИЛЯЄМО H₀\n",
            "   p-value (0.840216) ≥ α (0.05)\n",
            "   Висновок: Немає зросту середнього чеку за місяць\n"
          ]
        }
      ]
    },
    {
      "cell_type": "markdown",
      "source": [
        "Чи зійшлись значення z-статистику та р-значення в цьому завданні з попередніми обчисленнями?\n",
        "\n",
        "#Так, значення зійшлись.\n"
      ],
      "metadata": {
        "id": "KWetczagVfdV"
      },
      "id": "KWetczagVfdV"
    }
  ],
  "metadata": {
    "hide_input": false,
    "kernelspec": {
      "display_name": "Python 3 (ipykernel)",
      "language": "python",
      "name": "python3"
    },
    "language_info": {
      "codemirror_mode": {
        "name": "ipython",
        "version": 3
      },
      "file_extension": ".py",
      "mimetype": "text/x-python",
      "name": "python",
      "nbconvert_exporter": "python",
      "pygments_lexer": "ipython3",
      "version": "3.11.3"
    },
    "toc": {
      "base_numbering": 1,
      "nav_menu": {},
      "number_sections": true,
      "sideBar": true,
      "skip_h1_title": false,
      "title_cell": "Table of Contents",
      "title_sidebar": "Contents",
      "toc_cell": false,
      "toc_position": {},
      "toc_section_display": true,
      "toc_window_display": false
    },
    "varInspector": {
      "cols": {
        "lenName": 16,
        "lenType": 16,
        "lenVar": 40
      },
      "kernels_config": {
        "python": {
          "delete_cmd_postfix": "",
          "delete_cmd_prefix": "del ",
          "library": "var_list.py",
          "varRefreshCmd": "print(var_dic_list())"
        },
        "r": {
          "delete_cmd_postfix": ") ",
          "delete_cmd_prefix": "rm(",
          "library": "var_list.r",
          "varRefreshCmd": "cat(var_dic_list()) "
        }
      },
      "types_to_exclude": [
        "module",
        "function",
        "builtin_function_or_method",
        "instance",
        "_Feature"
      ],
      "window_display": false
    },
    "colab": {
      "provenance": [],
      "include_colab_link": true
    }
  },
  "nbformat": 4,
  "nbformat_minor": 5
}