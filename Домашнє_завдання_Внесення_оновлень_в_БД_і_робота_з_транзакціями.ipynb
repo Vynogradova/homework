{
 "cells": [
  {
   "cell_type": "markdown",
   "metadata": {
    "id": "KRtr9pOrz8um"
   },
   "source": [
    "# Домашнє завдання: Внесення оновлень в БД і робота з транзакціями\n",
    "\n",
    "Це ДЗ передбачене під виконання на локальній машині. Виконання з Google Colab буде суттєво ускладнене.\n",
    "\n",
    "## Підготовка\n",
    "1. Переконайтесь, що у вас встановлены необхідні бібліотеки:\n",
    "   ```bash\n",
    "   pip install sqlalchemy pymysql pandas matplotlib seaborn python-dotenv\n",
    "   ```\n",
    "\n",
    "2. Створіть файл `.env` з параметрами підключення до бази даних classicmodels. Базу даних ви можете отримати через\n",
    "\n",
    "  - docker-контейнер згідно існтрукції в [документі](https://www.notion.so/hannapylieva/Docker-1eb94835849480c9b2e7f5dc22ee4df9), також відео інструкції присутні на платформі - уроки \"MySQL бази, клієнт для роботи з БД, Docker і ChatGPT для запитів\" та \"Як встановити Docker для роботи з базами даних без терміналу\"\n",
    "  - або встановивши локально цю БД - для цього перегляньте урок \"Опціонально. Встановлення MySQL та  БД Сlassicmodels локально\".\n",
    "  \n",
    "  Приклад `.env` файлу ми створювали в лекції. Ось його обовʼязкове наповнення:\n",
    "    ```\n",
    "    DB_HOST=your_host\n",
    "    DB_PORT=3306 або 3307 - той, який Ви налаштували\n",
    "    DB_USER=your_username\n",
    "    DB_PASSWORD=your_password\n",
    "    DB_NAME=classicmodels\n",
    "    ```\n",
    "  Якщо ви створили цей файл під час перегляду лекції - **новий створювати не треба**. Замініть лише назву БД, або пропишіть назву в коді створення підключення (замість отримання назви цільової БД зі змінних оточення). Але переконайтесь, що до `.env` файл лежить в тій самій папці, що і цей ноутбук.\n",
    "\n",
    "  **УВАГА!** НЕ копіюйте скрит для **створення** `.env` файлу. В лекції він наводиться для прикладу. І давалось пояснення, що в реальних проєктах ми НІКОЛИ не пишемо доступи до бази в коді. Копіювання скрипта для створення `.env` файлу сюди в ДЗ буде вважатись грубою помилкою і ми зніматимемо бали.\n",
    "\n",
    "3. Налаштуйте підключення через SQLAlchemy до БД за прикладом в лекції.\n",
    "\n",
    "Рекомендую вивести (відобразити) змінну engine після створення. Вона має бути не None! Якщо None - значить у Вас не підтягнулись налаштування з .env файла.\n",
    "\n",
    "Ви також можете налаштувати параметри підключення до БД без .env файла, просто прописавши текстом в відповідних місцях. Це - не рекомендований підхід.\n",
    "\n",
    "\n",
    "## Завдання\n",
    "\n",
    "### Завдання 1: Оновлення інформації про клієнта (2 бали)\n",
    "\n",
    "**Створіть функцію для оновлення контактної інформації клієнта** з наступними можливостями:\n",
    "- Оновлення телефону клієнта\n",
    "- Оновлення email (якщо поле існує)\n",
    "- Логування змін в окрему таблицю\n",
    "\n",
    "Використайте підхід з параметризованими запитами через `text()` та `UPDATE` оператор.\n",
    "\n",
    "Запустіть функцію і продемонструйте її роботу, запустивши SELECT, який допоможе це зробити.\n",
    "\n"
   ]
  },
  {
   "cell_type": "code",
   "execution_count": 1,
   "metadata": {
    "id": "u60cWg7m2l26",
    "scrolled": true
   },
   "outputs": [
    {
     "name": "stdout",
     "output_type": "stream",
     "text": [
      "Requirement already satisfied: sqlalchemy in c:\\users\\user\\appdata\\local\\programs\\python\\python313\\lib\\site-packages (2.0.42)\n",
      "Requirement already satisfied: pymysql in c:\\users\\user\\appdata\\local\\programs\\python\\python313\\lib\\site-packages (1.1.1)\n",
      "Requirement already satisfied: pandas in c:\\users\\user\\appdata\\local\\programs\\python\\python313\\lib\\site-packages (2.3.1)\n",
      "Requirement already satisfied: matplotlib in c:\\users\\user\\appdata\\local\\programs\\python\\python313\\lib\\site-packages (3.10.5)\n",
      "Requirement already satisfied: seaborn in c:\\users\\user\\appdata\\local\\programs\\python\\python313\\lib\\site-packages (0.13.2)\n",
      "Requirement already satisfied: python-dotenv in c:\\users\\user\\appdata\\local\\programs\\python\\python313\\lib\\site-packages (1.1.1)\n",
      "Requirement already satisfied: greenlet>=1 in c:\\users\\user\\appdata\\local\\programs\\python\\python313\\lib\\site-packages (from sqlalchemy) (3.2.3)\n",
      "Requirement already satisfied: typing-extensions>=4.6.0 in c:\\users\\user\\appdata\\local\\programs\\python\\python313\\lib\\site-packages (from sqlalchemy) (4.14.1)\n",
      "Requirement already satisfied: numpy>=1.26.0 in c:\\users\\user\\appdata\\local\\programs\\python\\python313\\lib\\site-packages (from pandas) (2.3.1)\n",
      "Requirement already satisfied: python-dateutil>=2.8.2 in c:\\users\\user\\appdata\\local\\programs\\python\\python313\\lib\\site-packages (from pandas) (2.9.0.post0)\n",
      "Requirement already satisfied: pytz>=2020.1 in c:\\users\\user\\appdata\\local\\programs\\python\\python313\\lib\\site-packages (from pandas) (2025.2)\n",
      "Requirement already satisfied: tzdata>=2022.7 in c:\\users\\user\\appdata\\local\\programs\\python\\python313\\lib\\site-packages (from pandas) (2025.2)\n",
      "Requirement already satisfied: contourpy>=1.0.1 in c:\\users\\user\\appdata\\local\\programs\\python\\python313\\lib\\site-packages (from matplotlib) (1.3.3)\n",
      "Requirement already satisfied: cycler>=0.10 in c:\\users\\user\\appdata\\local\\programs\\python\\python313\\lib\\site-packages (from matplotlib) (0.12.1)\n",
      "Requirement already satisfied: fonttools>=4.22.0 in c:\\users\\user\\appdata\\local\\programs\\python\\python313\\lib\\site-packages (from matplotlib) (4.59.0)\n",
      "Requirement already satisfied: kiwisolver>=1.3.1 in c:\\users\\user\\appdata\\local\\programs\\python\\python313\\lib\\site-packages (from matplotlib) (1.4.8)\n",
      "Requirement already satisfied: packaging>=20.0 in c:\\users\\user\\appdata\\local\\programs\\python\\python313\\lib\\site-packages (from matplotlib) (25.0)\n",
      "Requirement already satisfied: pillow>=8 in c:\\users\\user\\appdata\\local\\programs\\python\\python313\\lib\\site-packages (from matplotlib) (11.3.0)\n",
      "Requirement already satisfied: pyparsing>=2.3.1 in c:\\users\\user\\appdata\\local\\programs\\python\\python313\\lib\\site-packages (from matplotlib) (3.2.3)\n",
      "Requirement already satisfied: six>=1.5 in c:\\users\\user\\appdata\\local\\programs\\python\\python313\\lib\\site-packages (from python-dateutil>=2.8.2->pandas) (1.17.0)\n",
      "Note: you may need to restart the kernel to use updated packages.\n"
     ]
    }
   ],
   "source": [
    "pip install sqlalchemy pymysql pandas matplotlib seaborn python-dotenv"
   ]
  },
  {
   "cell_type": "code",
   "execution_count": 52,
   "metadata": {},
   "outputs": [
    {
     "name": "stdout",
     "output_type": "stream",
     "text": [
      "✅ Підключення успішне!\n"
     ]
    }
   ],
   "source": [
    "import os\n",
    "from sqlalchemy import create_engine\n",
    "from dotenv import load_dotenv\n",
    "\n",
    "# Завантаження змінних з .env\n",
    "load_dotenv()\n",
    "\n",
    "# Отримання значень\n",
    "DB_HOST = os.getenv(\"DB_HOST\")\n",
    "DB_PORT = os.getenv(\"DB_PORT\")\n",
    "DB_USER = os.getenv(\"DB_USER\")\n",
    "DB_PASSWORD = os.getenv(\"DB_PASSWORD\")\n",
    "DB_NAME = os.getenv(\"DB_NAME\")\n",
    "\n",
    "# Формування рядка підключення\n",
    "connection_str = f\"mysql+pymysql://{DB_USER}:{DB_PASSWORD}@{DB_HOST}:{DB_PORT}/{DB_NAME}\"\n",
    "engine = create_engine(connection_str)\n",
    "\n",
    "# Перевірка\n",
    "print(\"✅ Підключення успішне!\" if engine is not None else \"❌ Помилка підключення.\")\n"
   ]
  },
  {
   "cell_type": "code",
   "execution_count": 53,
   "metadata": {
    "scrolled": true
   },
   "outputs": [
    {
     "name": "stdout",
     "output_type": "stream",
     "text": [
      "Телефон клієнта #103 успішно оновлено на +380631111111\n",
      "(103, 'Atelier graphique', '+380631111111')\n"
     ]
    }
   ],
   "source": [
    "from sqlalchemy import create_engine, text\n",
    "def update_customer_phone(engine, customer_number, new_phone):\n",
    "    \"\"\"\n",
    "    Оновлюю телефон клієнта з використанням параметризованого запиту через text()\n",
    "    \"\"\"\n",
    "    with engine.connect() as conn:\n",
    "        with conn.begin():\n",
    "            # Оновлення телефону\n",
    "            update_query = text(\"\"\"\n",
    "                UPDATE customers\n",
    "                SET phone = :new_phone\n",
    "                WHERE customerNumber = :cust_num\n",
    "            \"\"\")\n",
    "            conn.execute(update_query, {\n",
    "                'new_phone': new_phone,\n",
    "                'cust_num': customer_number\n",
    "            })\n",
    "            print(f\"Телефон клієнта #{customer_number} успішно оновлено на {new_phone}\")\n",
    "\n",
    "# Виклик функції — оновлення телефону для клієнта №103\n",
    "update_customer_phone(engine, 103, \"+380631111111\")\n",
    "\n",
    "# SELECT-запит для перевірки\n",
    "with engine.connect() as conn:\n",
    "    result = conn.execute(text(\"\"\"\n",
    "        SELECT customerNumber, customerName, phone\n",
    "        FROM customers\n",
    "        WHERE customerNumber = 103\n",
    "    \"\"\"))\n",
    "\n",
    "    for row in result:\n",
    "        print(row)"
   ]
  },
  {
   "cell_type": "code",
   "execution_count": 54,
   "metadata": {},
   "outputs": [
    {
     "name": "stdout",
     "output_type": "stream",
     "text": [
      "Поле 'email' не існує в таблиці 'customers'.\n"
     ]
    }
   ],
   "source": [
    "from sqlalchemy import create_engine, text\n",
    "\n",
    "# Функція оновлення email без логування\n",
    "def update_customer_email(engine, customer_number, new_email):\n",
    "    \"\"\"\n",
    "    Оновлює email клієнта (якщо поле існує)\n",
    "    \"\"\"\n",
    "    with engine.connect() as conn:\n",
    "        with conn.begin():\n",
    "            # Перевірка чи існує поле email у таблиці customers\n",
    "            check_column_query = text(\"\"\"\n",
    "                SELECT COLUMN_NAME \n",
    "                FROM INFORMATION_SCHEMA.COLUMNS \n",
    "                WHERE TABLE_NAME = 'customers' \n",
    "                  AND COLUMN_NAME = 'email' \n",
    "                  AND TABLE_SCHEMA = 'classicmodels'\n",
    "            \"\"\")\n",
    "            column_exists = conn.execute(check_column_query).fetchone()\n",
    "            if not column_exists:\n",
    "                print(\"Поле 'email' не існує в таблиці 'customers'.\")\n",
    "                return\n",
    "\n",
    "            # Оновлення email\n",
    "            update_query = text(\"\"\"\n",
    "                UPDATE customers\n",
    "                SET email = :new_email\n",
    "                WHERE customerNumber = :cust_num\n",
    "            \"\"\")\n",
    "            conn.execute(update_query, {\n",
    "                'new_email': new_email,\n",
    "                'cust_num': customer_number\n",
    "            })\n",
    "\n",
    "            print(f\"Email клієнта #{customer_number} оновлено на {new_email}\")\n",
    "\n",
    "# Виклик функції\n",
    "update_customer_email(engine, 103, \"new_email@example.com\")"
   ]
  },
  {
   "cell_type": "code",
   "execution_count": 55,
   "metadata": {},
   "outputs": [
    {
     "name": "stdout",
     "output_type": "stream",
     "text": [
      "Телефон клієнта №103: +380631111111\n"
     ]
    }
   ],
   "source": [
    "from sqlalchemy import text\n",
    "\n",
    "with engine.connect() as conn:\n",
    "    result = conn.execute(text(\"\"\"\n",
    "        SELECT phone FROM customers WHERE customerNumber = :cust_num\n",
    "    \"\"\"), {'cust_num': 103})\n",
    "\n",
    "    row = result.fetchone()\n",
    "    if row:\n",
    "        print(f\"Телефон клієнта №103: {row[0]}\")\n",
    "    else:\n",
    "        print(\"Клієнта з номером 103 не знайдено.\")\n"
   ]
  },
  {
   "cell_type": "code",
   "execution_count": 56,
   "metadata": {},
   "outputs": [
    {
     "name": "stdout",
     "output_type": "stream",
     "text": [
      "Таблиця customer_phone_log створена або вже існує.\n"
     ]
    }
   ],
   "source": [
    "from sqlalchemy import create_engine, text\n",
    "\n",
    "# Замініть значення на свої, якщо потрібно\n",
    "connection_str = f\"mysql+pymysql://{DB_USER}:{DB_PASSWORD}@{DB_HOST}:{DB_PORT}/{DB_NAME}\"\n",
    "engine = create_engine(connection_str)\n",
    "\n",
    "with engine.connect() as conn:\n",
    "    conn.execute(text(\"\"\"\n",
    "        CREATE TABLE IF NOT EXISTS customer_phone_log (\n",
    "            log_id INT AUTO_INCREMENT PRIMARY KEY,\n",
    "            customerNumber INT NOT NULL,\n",
    "            old_phone VARCHAR(50),\n",
    "            new_phone VARCHAR(50),\n",
    "            changed_at DATETIME DEFAULT CURRENT_TIMESTAMP\n",
    "        )\n",
    "    \"\"\"))\n",
    "    print(\"Таблиця customer_phone_log створена або вже існує.\")\n"
   ]
  },
  {
   "cell_type": "code",
   "execution_count": 57,
   "metadata": {},
   "outputs": [
    {
     "name": "stdout",
     "output_type": "stream",
     "text": [
      "Телефон клієнта #103 успішно оновлено з +380631111111 на +380631112233\n"
     ]
    }
   ],
   "source": [
    "update_customer_phone_with_log(engine, 103, \"+380631112233\")\n"
   ]
  },
  {
   "cell_type": "code",
   "execution_count": 58,
   "metadata": {},
   "outputs": [
    {
     "name": "stdout",
     "output_type": "stream",
     "text": [
      "(103, '+380631112233')\n"
     ]
    }
   ],
   "source": [
    "with engine.connect() as conn:\n",
    "    result = conn.execute(text(\"\"\"\n",
    "        SELECT customerNumber, phone\n",
    "        FROM customers\n",
    "        WHERE customerNumber = 103\n",
    "    \"\"\"))\n",
    "    for row in result:\n",
    "        print(row)\n"
   ]
  },
  {
   "cell_type": "code",
   "execution_count": 59,
   "metadata": {
    "scrolled": true
   },
   "outputs": [
    {
     "name": "stdout",
     "output_type": "stream",
     "text": [
      "Запит історії для клієнта #103\n",
      "Знайдено записів: 3\n",
      "   log_id  customerNumber      old_phone      new_phone          changed_at\n",
      "0       3             103  +380631111111  +380631112233 2025-08-08 08:41:14\n",
      "1       2             103  +380631111111  +380631112233 2025-08-07 08:05:12\n",
      "2       1             103  +380631111111  +380631112233 2025-08-07 07:59:33\n"
     ]
    },
    {
     "data": {
      "text/html": [
       "<div>\n",
       "<style scoped>\n",
       "    .dataframe tbody tr th:only-of-type {\n",
       "        vertical-align: middle;\n",
       "    }\n",
       "\n",
       "    .dataframe tbody tr th {\n",
       "        vertical-align: top;\n",
       "    }\n",
       "\n",
       "    .dataframe thead th {\n",
       "        text-align: right;\n",
       "    }\n",
       "</style>\n",
       "<table border=\"1\" class=\"dataframe\">\n",
       "  <thead>\n",
       "    <tr style=\"text-align: right;\">\n",
       "      <th></th>\n",
       "      <th>log_id</th>\n",
       "      <th>customerNumber</th>\n",
       "      <th>old_phone</th>\n",
       "      <th>new_phone</th>\n",
       "      <th>changed_at</th>\n",
       "    </tr>\n",
       "  </thead>\n",
       "  <tbody>\n",
       "    <tr>\n",
       "      <th>0</th>\n",
       "      <td>3</td>\n",
       "      <td>103</td>\n",
       "      <td>+380631111111</td>\n",
       "      <td>+380631112233</td>\n",
       "      <td>2025-08-08 08:41:14</td>\n",
       "    </tr>\n",
       "    <tr>\n",
       "      <th>1</th>\n",
       "      <td>2</td>\n",
       "      <td>103</td>\n",
       "      <td>+380631111111</td>\n",
       "      <td>+380631112233</td>\n",
       "      <td>2025-08-07 08:05:12</td>\n",
       "    </tr>\n",
       "    <tr>\n",
       "      <th>2</th>\n",
       "      <td>1</td>\n",
       "      <td>103</td>\n",
       "      <td>+380631111111</td>\n",
       "      <td>+380631112233</td>\n",
       "      <td>2025-08-07 07:59:33</td>\n",
       "    </tr>\n",
       "  </tbody>\n",
       "</table>\n",
       "</div>"
      ],
      "text/plain": [
       "   log_id  customerNumber      old_phone      new_phone          changed_at\n",
       "0       3             103  +380631111111  +380631112233 2025-08-08 08:41:14\n",
       "1       2             103  +380631111111  +380631112233 2025-08-07 08:05:12\n",
       "2       1             103  +380631111111  +380631112233 2025-08-07 07:59:33"
      ]
     },
     "execution_count": 59,
     "metadata": {},
     "output_type": "execute_result"
    }
   ],
   "source": [
    "import pandas as pd\n",
    "from sqlalchemy import text\n",
    "\n",
    "def customer_phone_history(engine, customer_number):\n",
    "    print(f\"Запит історії для клієнта #{customer_number}\")\n",
    "    with engine.connect() as conn:\n",
    "        result = conn.execute(text(\"\"\"\n",
    "            SELECT log_id, customerNumber, old_phone, new_phone, changed_at\n",
    "            FROM customer_phone_log\n",
    "            WHERE customerNumber = :cust_num\n",
    "            ORDER BY changed_at DESC\n",
    "        \"\"\"), {'cust_num': customer_number})\n",
    "\n",
    "        rows = result.fetchall()\n",
    "        print(f\"Знайдено записів: {len(rows)}\")  # Відладка\n",
    "\n",
    "        if not rows:\n",
    "            print(f\"Немає історії змін для клієнта #{customer_number}\")\n",
    "            return None\n",
    "\n",
    "        df = pd.DataFrame(rows, columns=[\"log_id\", \"customerNumber\", \"old_phone\", \"new_phone\", \"changed_at\"])\n",
    "        print(df)\n",
    "        return df\n",
    "\n",
    "# Виклик\n",
    "customer_phone_history(engine, 103)\n"
   ]
  },
  {
   "cell_type": "markdown",
   "metadata": {
    "id": "equimeUA0lh5"
   },
   "source": [
    "### Завдання 2: Створення нового замовлення з транзакцією (5 балів)\n",
    "\n",
    "**Реалізуйте процес створення нового замовлення** з наступними кроками в одній транзакції:\n",
    "- Створення запису в таблиці `orders`\n",
    "- Додавання товарних позицій в `orderdetails`\n",
    "- Перевірка наявності товарів на складі\n",
    "- Зменшення кількості товарів на складі\n",
    "\n",
    "Запустіть процес з тестовими даними і продемонструйте через SELECT, що процес успішно відпрацював і були виконані необхідні операції.\n",
    "\n",
    "\n"
   ]
  },
  {
   "cell_type": "code",
   "execution_count": 98,
   "metadata": {
    "id": "eo9mTVkW2mpe"
   },
   "outputs": [],
   "source": [
    "import pandas as pd\n",
    "from sqlalchemy import create_engine, text\n",
    "from datetime import datetime\n",
    "\n",
    "# Підключення до БД\n",
    "connection_str = f\"mysql+pymysql://{DB_USER}:{DB_PASSWORD}@{DB_HOST}:{DB_PORT}/{DB_NAME}\"\n",
    "engine = create_engine(connection_str)\n",
    "\n",
    "def create_order_with_items(engine, customer_number, order_items):\n",
    "    \"\"\"\n",
    "    Створює нове замовлення з товарами та повертає DataFrame з деталями.\n",
    "    \"\"\"\n",
    "    with engine.connect() as conn:\n",
    "        with conn.begin():  # Починаємо транзакцію\n",
    "\n",
    "            # Генеруємо новий orderNumber\n",
    "            result = conn.execute(text(\"SELECT MAX(orderNumber) FROM orders\"))\n",
    "            max_order_number = result.scalar() or 10000\n",
    "            new_order_number = max_order_number + 1\n",
    "\n",
    "            # Створюємо запис у таблиці orders\n",
    "            now = datetime.now().strftime(\"%Y-%m-%d\")\n",
    "            required_date = now\n",
    "            conn.execute(text(\"\"\"\n",
    "                INSERT INTO orders (orderNumber, orderDate, requiredDate, status, customerNumber)\n",
    "                VALUES (:orderNumber, :orderDate, :requiredDate, 'In Process', :customerNumber)\n",
    "            \"\"\"), {\n",
    "                'orderNumber': new_order_number,\n",
    "                'orderDate': now,\n",
    "                'requiredDate': required_date,\n",
    "                'customerNumber': customer_number\n",
    "            })\n",
    "\n",
    "            # Додаємо позиції замовлення\n",
    "            inserted_items = []\n",
    "            for idx, item in enumerate(order_items):\n",
    "                product_code = item[\"productCode\"]\n",
    "                quantity = item[\"quantityOrdered\"]\n",
    "                price = item[\"priceEach\"]\n",
    "\n",
    "                # Перевірка наявності\n",
    "                stock_result = conn.execute(text(\"\"\"\n",
    "                    SELECT quantityInStock FROM products WHERE productCode = :productCode\n",
    "                \"\"\"), {'productCode': product_code}).scalar()\n",
    "\n",
    "                if stock_result is None:\n",
    "                    raise ValueError(f\"❌ Товар з кодом {product_code} не знайдено\")\n",
    "                if stock_result < quantity:\n",
    "                    raise ValueError(f\"❌ Недостатньо товару {product_code} на складі. Є лише {stock_result}\")\n",
    "\n",
    "                # Додаємо до orderdetails\n",
    "                conn.execute(text(\"\"\"\n",
    "                    INSERT INTO orderdetails (orderNumber, productCode, quantityOrdered, priceEach, orderLineNumber)\n",
    "                    VALUES (:orderNumber, :productCode, :quantityOrdered, :priceEach, :orderLineNumber)\n",
    "                \"\"\"), {\n",
    "                    'orderNumber': new_order_number,\n",
    "                    'productCode': product_code,\n",
    "                    'quantityOrdered': quantity,\n",
    "                    'priceEach': price,\n",
    "                    'orderLineNumber': idx + 1\n",
    "                })\n",
    "\n",
    "                # Оновлення залишку\n",
    "                conn.execute(text(\"\"\"\n",
    "                    UPDATE products\n",
    "                    SET quantityInStock = quantityInStock - :quantity\n",
    "                    WHERE productCode = :productCode\n",
    "                \"\"\"), {\n",
    "                    'quantity': quantity,\n",
    "                    'productCode': product_code\n",
    "                })\n",
    "\n",
    "                # Для DataFrame\n",
    "                inserted_items.append({\n",
    "                    'orderNumber': new_order_number,\n",
    "                    'productCode': product_code,\n",
    "                    'quantityOrdered': quantity,\n",
    "                    'priceEach': price,\n",
    "                    'orderLineNumber': idx + 1\n",
    "                })\n",
    "\n",
    "            print(f\"Замовлення #{new_order_number} успішно створено з {len(order_items)} товар(ами)\")\n",
    "\n",
    "        # 4. Повертаємо DataFrame\n",
    "        df = pd.DataFrame(inserted_items)\n",
    "        print(\"\\nДеталі замовлення:\")\n",
    "        print(df)\n",
    "        return df\n"
   ]
  },
  {
   "cell_type": "code",
   "execution_count": 99,
   "metadata": {},
   "outputs": [
    {
     "name": "stdout",
     "output_type": "stream",
     "text": [
      "Замовлення #10438 успішно створено з 2 товар(ами)\n",
      "\n",
      "Деталі замовлення:\n",
      "   orderNumber productCode  quantityOrdered  priceEach  orderLineNumber\n",
      "0        10438    S10_1678                5      95.70                1\n",
      "1        10438    S18_2248                3      55.09                2\n"
     ]
    },
    {
     "data": {
      "text/html": [
       "<div>\n",
       "<style scoped>\n",
       "    .dataframe tbody tr th:only-of-type {\n",
       "        vertical-align: middle;\n",
       "    }\n",
       "\n",
       "    .dataframe tbody tr th {\n",
       "        vertical-align: top;\n",
       "    }\n",
       "\n",
       "    .dataframe thead th {\n",
       "        text-align: right;\n",
       "    }\n",
       "</style>\n",
       "<table border=\"1\" class=\"dataframe\">\n",
       "  <thead>\n",
       "    <tr style=\"text-align: right;\">\n",
       "      <th></th>\n",
       "      <th>orderNumber</th>\n",
       "      <th>productCode</th>\n",
       "      <th>quantityOrdered</th>\n",
       "      <th>priceEach</th>\n",
       "      <th>orderLineNumber</th>\n",
       "    </tr>\n",
       "  </thead>\n",
       "  <tbody>\n",
       "    <tr>\n",
       "      <th>0</th>\n",
       "      <td>10438</td>\n",
       "      <td>S10_1678</td>\n",
       "      <td>5</td>\n",
       "      <td>95.70</td>\n",
       "      <td>1</td>\n",
       "    </tr>\n",
       "    <tr>\n",
       "      <th>1</th>\n",
       "      <td>10438</td>\n",
       "      <td>S18_2248</td>\n",
       "      <td>3</td>\n",
       "      <td>55.09</td>\n",
       "      <td>2</td>\n",
       "    </tr>\n",
       "  </tbody>\n",
       "</table>\n",
       "</div>"
      ],
      "text/plain": [
       "   orderNumber productCode  quantityOrdered  priceEach  orderLineNumber\n",
       "0        10438    S10_1678                5      95.70                1\n",
       "1        10438    S18_2248                3      55.09                2"
      ]
     },
     "execution_count": 99,
     "metadata": {},
     "output_type": "execute_result"
    }
   ],
   "source": [
    "order_items = [\n",
    "    {\"productCode\": \"S10_1678\", \"quantityOrdered\": 5, \"priceEach\": 95.70},\n",
    "    {\"productCode\": \"S18_2248\", \"quantityOrdered\": 3, \"priceEach\": 55.09}\n",
    "]\n",
    "\n",
    "create_order_with_items(engine, customer_number=103, order_items=order_items)\n"
   ]
  },
  {
   "cell_type": "code",
   "execution_count": 101,
   "metadata": {},
   "outputs": [
    {
     "name": "stdout",
     "output_type": "stream",
     "text": [
      "Замовлення:\n",
      "   orderNumber   orderDate requiredDate shippedDate      status comments  \\\n",
      "0        10436  2025-08-08   2025-08-08        None  In Process     None   \n",
      "\n",
      "   customerNumber  \n",
      "0             103  \n",
      "\n",
      "Деталі замовлення:\n",
      "   orderNumber productCode  quantityOrdered  priceEach  orderLineNumber\n",
      "0        10436    S10_1678                5      95.70                1\n",
      "1        10436    S18_2248                3      55.09                2\n",
      "\n",
      "Залишки товарів після зменшення:\n",
      "  productCode  quantityInStock\n",
      "0    S10_1678             7903\n",
      "1    S18_2248              522\n"
     ]
    }
   ],
   "source": [
    "order_number = 10436  # останній номер\n",
    "\n",
    "with engine.connect() as conn:\n",
    "    print(\"Замовлення:\")\n",
    "    df_order = pd.read_sql(f\"SELECT * FROM orders WHERE orderNumber = {order_number}\", conn)\n",
    "    print(df_order)\n",
    "\n",
    "    print(\"\\nДеталі замовлення:\")\n",
    "    df_details = pd.read_sql(f\"SELECT * FROM orderdetails WHERE orderNumber = {order_number}\", conn)\n",
    "    print(df_details)\n",
    "\n",
    "    print(\"\\nЗалишки товарів після зменшення:\")\n",
    "    df_stock = pd.read_sql(\"\"\"\n",
    "        SELECT productCode, quantityInStock FROM products\n",
    "        WHERE productCode IN ('S10_1678', 'S18_2248')\n",
    "    \"\"\", conn)\n",
    "    print(df_stock)\n"
   ]
  }
 ],
 "metadata": {
  "colab": {
   "provenance": []
  },
  "kernelspec": {
   "display_name": "Python 3 (ipykernel)",
   "language": "python",
   "name": "python3"
  },
  "language_info": {
   "codemirror_mode": {
    "name": "ipython",
    "version": 3
   },
   "file_extension": ".py",
   "mimetype": "text/x-python",
   "name": "python",
   "nbconvert_exporter": "python",
   "pygments_lexer": "ipython3",
   "version": "3.13.4"
  }
 },
 "nbformat": 4,
 "nbformat_minor": 4
}
