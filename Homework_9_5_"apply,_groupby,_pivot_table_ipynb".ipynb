{
  "nbformat": 4,
  "nbformat_minor": 0,
  "metadata": {
    "colab": {
      "provenance": [],
      "include_colab_link": true
    },
    "kernelspec": {
      "name": "python3",
      "display_name": "Python 3"
    },
    "language_info": {
      "name": "python"
    }
  },
  "cells": [
    {
      "cell_type": "markdown",
      "metadata": {
        "id": "view-in-github",
        "colab_type": "text"
      },
      "source": [
        "<a href=\"https://colab.research.google.com/github/Vynogradova/homework/blob/main/Homework_9_5_%22apply%2C_groupby%2C_pivot_table_ipynb%22.ipynb\" target=\"_parent\"><img src=\"https://colab.research.google.com/assets/colab-badge.svg\" alt=\"Open In Colab\"/></a>"
      ]
    },
    {
      "cell_type": "markdown",
      "source": [
        "#Домашнє завдання до тем apply(), groupby(), pivot_table()"
      ],
      "metadata": {
        "id": "LwNpAFw_eTF3"
      }
    },
    {
      "cell_type": "markdown",
      "source": [
        "В цьому домашньому завданні продовжуємо працювати з набором даних `supermarket_sales.csv`."
      ],
      "metadata": {
        "id": "vP2PEJyq8Yrj"
      }
    },
    {
      "cell_type": "markdown",
      "source": [
        "0. Імпортуйте бібліотеку pandas та зчитайте дані у змінну `df` типу `pandas.DataFrame`."
      ],
      "metadata": {
        "id": "dh9lfpDb8gBL"
      }
    },
    {
      "cell_type": "code",
      "source": [
        "from google.colab import drive\n",
        "drive.mount('/content/drive')"
      ],
      "metadata": {
        "colab": {
          "base_uri": "https://localhost:8080/"
        },
        "id": "w53OWmrTc864",
        "outputId": "a6e5869b-d456-4750-c6f8-7446a0412d1f"
      },
      "execution_count": 2,
      "outputs": [
        {
          "output_type": "stream",
          "name": "stdout",
          "text": [
            "Drive already mounted at /content/drive; to attempt to forcibly remount, call drive.mount(\"/content/drive\", force_remount=True).\n"
          ]
        }
      ]
    },
    {
      "cell_type": "code",
      "source": [
        "import pandas as pd"
      ],
      "metadata": {
        "id": "Lae8Tudkc_7O"
      },
      "execution_count": 3,
      "outputs": []
    },
    {
      "cell_type": "code",
      "source": [
        "df = pd.read_csv('/content/drive/MyDrive/Colab Notebooks/supermarket_sales.csv')"
      ],
      "metadata": {
        "id": "29C6wceWdFcv"
      },
      "execution_count": 6,
      "outputs": []
    },
    {
      "cell_type": "markdown",
      "metadata": {
        "id": "28638363"
      },
      "source": [
        "1. Дослідимо, який філіал супермаркету ('Branch') є найприбутковішим. Для цього знайдіть сумарний прибуток за кожним філіалом і виявіть, який філіал має найвищий."
      ]
    },
    {
      "cell_type": "code",
      "execution_count": 7,
      "metadata": {
        "ExecuteTime": {
          "end_time": "2022-11-01T17:27:42.023877Z",
          "start_time": "2022-11-01T17:27:42.020277Z"
        },
        "id": "916d731d",
        "colab": {
          "base_uri": "https://localhost:8080/"
        },
        "outputId": "ba0765e2-7602-4058-dbe2-78c41ba88b69"
      },
      "outputs": [
        {
          "output_type": "stream",
          "name": "stdout",
          "text": [
            "Branch\n",
            "C    5265.1765\n",
            "A    5057.1605\n",
            "B    5057.0320\n",
            "Name: gross income, dtype: float64\n",
            "\n",
            "Найприбутковіший філіал: C\n"
          ]
        }
      ],
      "source": [
        "branch_profit = df.groupby('Branch')['gross income'].sum().sort_values(ascending=False)\n",
        "\n",
        "print(branch_profit)\n",
        "\n",
        "most_profitable_branch = branch_profit.idxmax()\n",
        "print(f\"\\nНайприбутковіший філіал: {most_profitable_branch}\")"
      ]
    },
    {
      "cell_type": "markdown",
      "source": [
        "2. В якому місті знайходиться філіал з найвищим прибутком? Може в тому місці нам розмітисти ще один магазин.  \n",
        "Знайдіть відповідь за допомогою функціоналу Pandas."
      ],
      "metadata": {
        "id": "2qL_OddUCZKK"
      }
    },
    {
      "cell_type": "code",
      "source": [
        "branch_profit = df.groupby('Branch')['gross income'].sum()\n",
        "\n",
        "top_branch = branch_profit.idxmax()\n",
        "\n",
        "branch_city = df[df['Branch'] == top_branch]['City'].unique()[0]\n",
        "\n",
        "print(f\"Найприбутковіший філіал: {top_branch}\")\n",
        "print(f\"Місто, де він знаходиться: {branch_city}\")"
      ],
      "metadata": {
        "id": "bBJUc1dWCwdi",
        "colab": {
          "base_uri": "https://localhost:8080/"
        },
        "outputId": "949d157f-0b9a-4732-8fd5-5032b18e59b3"
      },
      "execution_count": 9,
      "outputs": [
        {
          "output_type": "stream",
          "name": "stdout",
          "text": [
            "Найприбутковіший філіал: C\n",
            "Місто, де він знаходиться: Naypyitaw\n"
          ]
        }
      ]
    },
    {
      "cell_type": "markdown",
      "metadata": {
        "id": "6dec795f"
      },
      "source": [
        "3.1. Створіть зводну таблицю, яка покаже, скільки покупок (інвойсів) було зроблено в кожній з філій (`Branch`) за різними категоріями товарів. Запишіть таблицю в змінну `invoices_by_category` і виведіть змінну на екран.\n",
        "Ця таблиця допоможе проаналізувати, в якій філії купують найбільше товарів кожної з категорій."
      ]
    },
    {
      "cell_type": "code",
      "source": [
        "invoices_by_category = df.pivot_table(\n",
        "    index='Branch',\n",
        "    columns='Product line',\n",
        "    values='Invoice ID',\n",
        "    aggfunc='count'\n",
        ")\n",
        "\n",
        "# Вивід результату\n",
        "print(invoices_by_category)"
      ],
      "metadata": {
        "id": "N7TfUBf4ZrkX",
        "colab": {
          "base_uri": "https://localhost:8080/"
        },
        "outputId": "a73acb0d-d95c-4b37-d15e-f0e36e215d52"
      },
      "execution_count": 10,
      "outputs": [
        {
          "output_type": "stream",
          "name": "stdout",
          "text": [
            "Product line  Electronic accessories  Fashion accessories  Food and beverages  \\\n",
            "Branch                                                                          \n",
            "A                                 60                   51                  58   \n",
            "B                                 55                   62                  50   \n",
            "C                                 55                   65                  66   \n",
            "\n",
            "Product line  Health and beauty  Home and lifestyle  Sports and travel  \n",
            "Branch                                                                  \n",
            "A                            47                  65                 59  \n",
            "B                            53                  50                 62  \n",
            "C                            52                  45                 45  \n"
          ]
        }
      ]
    },
    {
      "cell_type": "code",
      "source": [
        "styled_table = invoices_by_category.style.set_table_styles(\n",
        "    [{'selector': 'td, th', 'props': [('background-color', 'white'), ('color', 'black')]}]\n",
        ")\n",
        "styled_table"
      ],
      "metadata": {
        "colab": {
          "base_uri": "https://localhost:8080/",
          "height": 175
        },
        "id": "XvuGzVOBzimy",
        "outputId": "f1a887c3-d565-4036-efac-fbdfed24e2de"
      },
      "execution_count": 12,
      "outputs": [
        {
          "output_type": "execute_result",
          "data": {
            "text/plain": [
              "<pandas.io.formats.style.Styler at 0x7b5b5c044ad0>"
            ],
            "text/html": [
              "<style type=\"text/css\">\n",
              "#T_a9b8f td {\n",
              "  background-color: white;\n",
              "  color: black;\n",
              "}\n",
              "#T_a9b8f  th {\n",
              "  background-color: white;\n",
              "  color: black;\n",
              "}\n",
              "</style>\n",
              "<table id=\"T_a9b8f\" class=\"dataframe\">\n",
              "  <thead>\n",
              "    <tr>\n",
              "      <th class=\"index_name level0\" >Product line</th>\n",
              "      <th id=\"T_a9b8f_level0_col0\" class=\"col_heading level0 col0\" >Electronic accessories</th>\n",
              "      <th id=\"T_a9b8f_level0_col1\" class=\"col_heading level0 col1\" >Fashion accessories</th>\n",
              "      <th id=\"T_a9b8f_level0_col2\" class=\"col_heading level0 col2\" >Food and beverages</th>\n",
              "      <th id=\"T_a9b8f_level0_col3\" class=\"col_heading level0 col3\" >Health and beauty</th>\n",
              "      <th id=\"T_a9b8f_level0_col4\" class=\"col_heading level0 col4\" >Home and lifestyle</th>\n",
              "      <th id=\"T_a9b8f_level0_col5\" class=\"col_heading level0 col5\" >Sports and travel</th>\n",
              "    </tr>\n",
              "    <tr>\n",
              "      <th class=\"index_name level0\" >Branch</th>\n",
              "      <th class=\"blank col0\" >&nbsp;</th>\n",
              "      <th class=\"blank col1\" >&nbsp;</th>\n",
              "      <th class=\"blank col2\" >&nbsp;</th>\n",
              "      <th class=\"blank col3\" >&nbsp;</th>\n",
              "      <th class=\"blank col4\" >&nbsp;</th>\n",
              "      <th class=\"blank col5\" >&nbsp;</th>\n",
              "    </tr>\n",
              "  </thead>\n",
              "  <tbody>\n",
              "    <tr>\n",
              "      <th id=\"T_a9b8f_level0_row0\" class=\"row_heading level0 row0\" >A</th>\n",
              "      <td id=\"T_a9b8f_row0_col0\" class=\"data row0 col0\" >60</td>\n",
              "      <td id=\"T_a9b8f_row0_col1\" class=\"data row0 col1\" >51</td>\n",
              "      <td id=\"T_a9b8f_row0_col2\" class=\"data row0 col2\" >58</td>\n",
              "      <td id=\"T_a9b8f_row0_col3\" class=\"data row0 col3\" >47</td>\n",
              "      <td id=\"T_a9b8f_row0_col4\" class=\"data row0 col4\" >65</td>\n",
              "      <td id=\"T_a9b8f_row0_col5\" class=\"data row0 col5\" >59</td>\n",
              "    </tr>\n",
              "    <tr>\n",
              "      <th id=\"T_a9b8f_level0_row1\" class=\"row_heading level0 row1\" >B</th>\n",
              "      <td id=\"T_a9b8f_row1_col0\" class=\"data row1 col0\" >55</td>\n",
              "      <td id=\"T_a9b8f_row1_col1\" class=\"data row1 col1\" >62</td>\n",
              "      <td id=\"T_a9b8f_row1_col2\" class=\"data row1 col2\" >50</td>\n",
              "      <td id=\"T_a9b8f_row1_col3\" class=\"data row1 col3\" >53</td>\n",
              "      <td id=\"T_a9b8f_row1_col4\" class=\"data row1 col4\" >50</td>\n",
              "      <td id=\"T_a9b8f_row1_col5\" class=\"data row1 col5\" >62</td>\n",
              "    </tr>\n",
              "    <tr>\n",
              "      <th id=\"T_a9b8f_level0_row2\" class=\"row_heading level0 row2\" >C</th>\n",
              "      <td id=\"T_a9b8f_row2_col0\" class=\"data row2 col0\" >55</td>\n",
              "      <td id=\"T_a9b8f_row2_col1\" class=\"data row2 col1\" >65</td>\n",
              "      <td id=\"T_a9b8f_row2_col2\" class=\"data row2 col2\" >66</td>\n",
              "      <td id=\"T_a9b8f_row2_col3\" class=\"data row2 col3\" >52</td>\n",
              "      <td id=\"T_a9b8f_row2_col4\" class=\"data row2 col4\" >45</td>\n",
              "      <td id=\"T_a9b8f_row2_col5\" class=\"data row2 col5\" >45</td>\n",
              "    </tr>\n",
              "  </tbody>\n",
              "</table>\n"
            ]
          },
          "metadata": {},
          "execution_count": 12
        }
      ]
    },
    {
      "cell_type": "markdown",
      "metadata": {
        "ExecuteTime": {
          "end_time": "2022-11-01T16:50:46.961201Z",
          "start_time": "2022-11-01T16:50:46.955894Z"
        },
        "id": "f5bbfa34"
      },
      "source": [
        "Очікуваний результат:"
      ]
    },
    {
      "cell_type": "markdown",
      "metadata": {
        "id": "34b9bcdc"
      },
      "source": [
        "![](https://drive.google.com/uc?export=view&id=1rueAdko6S3UxIHGtojetTxlES-EyM6Yb)"
      ]
    },
    {
      "cell_type": "markdown",
      "source": [
        "3.2. Викристовуючи змінну `invoices_by_category` дайте відповідь програмно (тобто значення треба не просто знайти очима, а вивести за допомогою коду), в якому філіалі магазину (`Branch`) найбільше інвойсів із покупкою товарів категорії \"Електронні аксесуари\" (`Electronic accessories`)?\n"
      ],
      "metadata": {
        "id": "woygDEA0OSwJ"
      }
    },
    {
      "cell_type": "code",
      "source": [
        "top_branch_electronics = invoices_by_category['Electronic accessories'].idxmax()\n",
        "top_count = invoices_by_category['Electronic accessories'].max()\n",
        "\n",
        "print(f\"Найбільше інвойсів з категорії 'Electronic accessories' у філіалі: {top_branch_electronics}\")\n",
        "print(f\"Кількість інвойсів: {top_count}\")"
      ],
      "metadata": {
        "id": "B5x8kTE-Qcq8",
        "colab": {
          "base_uri": "https://localhost:8080/"
        },
        "outputId": "870ef853-980c-4d95-fcbf-d0b3ef5f6b00"
      },
      "execution_count": 13,
      "outputs": [
        {
          "output_type": "stream",
          "name": "stdout",
          "text": [
            "Найбільше інвойсів з категорії 'Electronic accessories' у філіалі: A\n",
            "Кількість інвойсів: 60\n"
          ]
        }
      ]
    },
    {
      "cell_type": "markdown",
      "metadata": {
        "ExecuteTime": {
          "end_time": "2022-11-01T17:56:02.981755Z",
          "start_time": "2022-11-01T17:56:02.977086Z"
        },
        "id": "d005a2b8"
      },
      "source": [
        "4-6. **Творче завдання на розвиток аналітичного мислення**\n",
        "\n",
        "Крок 1. Сформулюйте ТРИ питання (гіпотези) до наявних даних, які допомогли б вам зрозуміти, які користувачі що, де та коли найбільше/найменше купують, аби дати на основі цих гіпотез рекомендації бізнесу. Звісно питання мають бути не тими, на які ми вже відповіли в завданнях модулю.\n",
        "\n",
        "Крок 2. Знайдіть відповіді на свої питання з допомогою функціоналу pandas.\n",
        "\n",
        "Крок 3. Напишіть, як відповідь на це питання може бути використана для прийняття бізнес рішень.   \n",
        "   \n",
        " Питання можуть бути будь-якої складності, але їх має бути 3. Кожне питання оцінюється як 1 завдання. Без виконання цього завдання ДЗ не приймається. Якщо є питання щодо виконання - пишіть у чат 🙌\n"
      ]
    },
    {
      "cell_type": "markdown",
      "source": [
        "Гіпотеза 1: Чи є різниця у середньому чеку між чоловіками та жінками?"
      ],
      "metadata": {
        "id": "U2hxVo-30tG0"
      }
    },
    {
      "cell_type": "code",
      "source": [
        "avg_total_by_gender = df.groupby('Gender')['Total'].mean().round(2)\n",
        "print(avg_total_by_gender)"
      ],
      "metadata": {
        "id": "cM3cApWSZuRX",
        "colab": {
          "base_uri": "https://localhost:8080/"
        },
        "outputId": "56376fc6-906a-47e3-fd1c-20a3879a04fb"
      },
      "execution_count": 14,
      "outputs": [
        {
          "output_type": "stream",
          "name": "stdout",
          "text": [
            "Gender\n",
            "Female    335.10\n",
            "Male      310.79\n",
            "Name: Total, dtype: float64\n"
          ]
        }
      ]
    },
    {
      "cell_type": "markdown",
      "source": [
        "Жінки мають вищий середній чек (335.10), ніж чоловіки (310.79).\n",
        "\n",
        "**Як використовувати:**\n",
        "\n",
        "1. Зосередитись на маркетингових кампаніях для жінок, пропонуючи персоналізовані акції та комплекти товарів.\n",
        "\n",
        "2. Для чоловіків розробити стимули, що підвищують середній чек (наприклад бонуси)."
      ],
      "metadata": {
        "id": "P-dA6Yc01NGr"
      }
    },
    {
      "cell_type": "markdown",
      "source": [
        "Гіпотеза 2: У який день тижня відбувається найбільше покупок?"
      ],
      "metadata": {
        "id": "YC4gBVii1ngT"
      }
    },
    {
      "cell_type": "code",
      "source": [
        "df['Date'] = pd.to_datetime(df['Date'])\n",
        "df['Weekday'] = df['Date'].dt.day_name()\n",
        "\n",
        "purchases_by_day = df['Weekday'].value_counts()\n",
        "print(purchases_by_day)"
      ],
      "metadata": {
        "colab": {
          "base_uri": "https://localhost:8080/"
        },
        "id": "Zbmu9Zf_1Xf7",
        "outputId": "35def701-1e15-4fdd-bc93-999b13934040"
      },
      "execution_count": 15,
      "outputs": [
        {
          "output_type": "stream",
          "name": "stdout",
          "text": [
            "Weekday\n",
            "Saturday     164\n",
            "Tuesday      158\n",
            "Wednesday    143\n",
            "Friday       139\n",
            "Thursday     138\n",
            "Sunday       133\n",
            "Monday       125\n",
            "Name: count, dtype: int64\n"
          ]
        }
      ]
    },
    {
      "cell_type": "markdown",
      "source": [
        "Найбільше покупок відбувається у суботу (164), а найменше — у понеділок (125).\n",
        "\n",
        "**Як використовувати:**\n",
        "\n",
        "1. Планувати акції та рекламу на суботу, щоб максимізувати продажі.\n",
        "\n",
        "2. Проводити спеціальні стимули у понеділок для підвищення активності у цей день.\n",
        "\n",
        "3. Регулювати графік роботи персоналу, орієнтуючись на пікові дні продажів."
      ],
      "metadata": {
        "id": "NIuIfnbz111n"
      }
    },
    {
      "cell_type": "markdown",
      "source": [
        "3 Гіпотеза: Які способи оплати переважають у кожному місті."
      ],
      "metadata": {
        "id": "ei3gFlSg2GmT"
      }
    },
    {
      "cell_type": "code",
      "source": [
        "payment_by_city = df.pivot_table(\n",
        "    index='City',\n",
        "    columns='Payment',\n",
        "    values='Invoice ID',\n",
        "    aggfunc='count'\n",
        ")\n",
        "print(payment_by_city)"
      ],
      "metadata": {
        "colab": {
          "base_uri": "https://localhost:8080/"
        },
        "id": "Fg2ngSIr2V0z",
        "outputId": "4662932d-4f9b-46ee-8357-fd9c15653474"
      },
      "execution_count": 16,
      "outputs": [
        {
          "output_type": "stream",
          "name": "stdout",
          "text": [
            "Payment    Cash  Credit card  Ewallet\n",
            "City                                 \n",
            "Mandalay    110          109      113\n",
            "Naypyitaw   124           98      106\n",
            "Yangon      110          104      126\n"
          ]
        }
      ]
    },
    {
      "cell_type": "markdown",
      "source": [
        "Аналіз способів оплати в різних містах показує:\n",
        "\n",
        "- У Mandalay способи оплати розподілені майже рівномірно: Cash (110), Credit card (109), Ewallet (113).\n",
        "- У Naypyitaw найбільше покупок оплачують готівкою (124), менше — Ewallet (106) та кредитною карткою (98).\n",
        "- У Yangon найбільше використовується Ewallet (126), далі Cash (110) та Credit card (104).\n",
        "\n",
        "**Як використовувати:**\n",
        "\n",
        "- Для Yangon варто розвивати цифрові методи оплати, впроваджувати акції з використанням Ewallet.\n",
        "- У Naypyitaw можна стимулювати безготівкові платежі, розширюючи можливості кредитних карток та мобільних гаманців.\n",
        "- В Mandalay ефективно підтримувати всі способи оплати, адже попит розподілений рівномірно."
      ],
      "metadata": {
        "id": "69esNUe02gRz"
      }
    }
  ]
}